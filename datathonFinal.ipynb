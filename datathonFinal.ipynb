{
 "cells": [
  {
   "cell_type": "markdown",
   "metadata": {},
   "source": [
    "# Ryanair Datathon\n",
    "\n",
    "Team: The Malviners\n",
    "\n",
    "- This notebooks contains the final Data Cleaning, Feature Engineering, and Model after many versions created in the past days.\n",
    "- Everything will be done using the train_extended dataset as we can further explore the data using the *variables known after prediction* and *estimations from Ryanair Models*"
   ]
  },
  {
   "cell_type": "markdown",
   "metadata": {},
   "source": [
    "## Data Exploration + Outliers Cleaning"
   ]
  },
  {
   "cell_type": "code",
   "execution_count": 1,
   "metadata": {},
   "outputs": [],
   "source": [
    "import warnings\n",
    "warnings.filterwarnings('ignore')\n",
    "import pandas as pd\n",
    "import plotly.express as px\n",
    "df = pd.read_csv(\"train_extended.csv\")"
   ]
  },
  {
   "cell_type": "markdown",
   "metadata": {},
   "source": [
    "### Calculate Distance Between Airports\n",
    "- Distance between airports will be crucial for the model\n",
    "- We use **airportsdata** library to get coordinates from all airports, and **geopy** to calculate the distance in miles between two airports\n",
    "- SXF and SZY airports didn't have data on the library, so it is introduced manually"
   ]
  },
  {
   "cell_type": "code",
   "execution_count": 2,
   "metadata": {},
   "outputs": [
    {
     "data": {
      "text/html": [
       "<div>\n",
       "<style scoped>\n",
       "    .dataframe tbody tr th:only-of-type {\n",
       "        vertical-align: middle;\n",
       "    }\n",
       "\n",
       "    .dataframe tbody tr th {\n",
       "        vertical-align: top;\n",
       "    }\n",
       "\n",
       "    .dataframe thead th {\n",
       "        text-align: right;\n",
       "    }\n",
       "</style>\n",
       "<table border=\"1\" class=\"dataframe\">\n",
       "  <thead>\n",
       "    <tr style=\"text-align: right;\">\n",
       "      <th></th>\n",
       "      <th>FlightID</th>\n",
       "      <th>FlightNumber</th>\n",
       "      <th>AircraftRegistration</th>\n",
       "      <th>AircraftCapacity</th>\n",
       "      <th>AircraftTypeGroup</th>\n",
       "      <th>ServiceDescription</th>\n",
       "      <th>Carrier</th>\n",
       "      <th>AOCDescription</th>\n",
       "      <th>ScheduledRoute</th>\n",
       "      <th>ActualRoute</th>\n",
       "      <th>...</th>\n",
       "      <th>Infants</th>\n",
       "      <th>Bags</th>\n",
       "      <th>FlightTime</th>\n",
       "      <th>PlannedZeroFuelWeight</th>\n",
       "      <th>PlannedTOW</th>\n",
       "      <th>PlannedTripTime</th>\n",
       "      <th>TeledyneRampWeight</th>\n",
       "      <th>DepartureAirport</th>\n",
       "      <th>ArrivalAirport</th>\n",
       "      <th>distance</th>\n",
       "    </tr>\n",
       "  </thead>\n",
       "  <tbody>\n",
       "    <tr>\n",
       "      <th>0</th>\n",
       "      <td>181142302</td>\n",
       "      <td>221</td>\n",
       "      <td>SPRZK</td>\n",
       "      <td>197.0</td>\n",
       "      <td>Max</td>\n",
       "      <td>Scheduled Flight</td>\n",
       "      <td>FR</td>\n",
       "      <td>Ryanair Sun</td>\n",
       "      <td>EMA-BUD</td>\n",
       "      <td>EMA-BUD</td>\n",
       "      <td>...</td>\n",
       "      <td>2.0</td>\n",
       "      <td>43.0</td>\n",
       "      <td>137.0</td>\n",
       "      <td>56242.0</td>\n",
       "      <td>62723.0</td>\n",
       "      <td>8246.0</td>\n",
       "      <td>62075.0</td>\n",
       "      <td>EMA</td>\n",
       "      <td>BUD</td>\n",
       "      <td>983.168625</td>\n",
       "    </tr>\n",
       "    <tr>\n",
       "      <th>1</th>\n",
       "      <td>178908306</td>\n",
       "      <td>3373</td>\n",
       "      <td>9HQEC</td>\n",
       "      <td>189.0</td>\n",
       "      <td>NG</td>\n",
       "      <td>Scheduled Flight</td>\n",
       "      <td>FR</td>\n",
       "      <td>Malta Air</td>\n",
       "      <td>TRN-MLA</td>\n",
       "      <td>TRN-MLA</td>\n",
       "      <td>...</td>\n",
       "      <td>0.0</td>\n",
       "      <td>7.0</td>\n",
       "      <td>102.0</td>\n",
       "      <td>57148.0</td>\n",
       "      <td>63878.0</td>\n",
       "      <td>6227.0</td>\n",
       "      <td>62002.0</td>\n",
       "      <td>TRN</td>\n",
       "      <td>MLA</td>\n",
       "      <td>737.477336</td>\n",
       "    </tr>\n",
       "    <tr>\n",
       "      <th>2</th>\n",
       "      <td>178886981</td>\n",
       "      <td>2814</td>\n",
       "      <td>9HQCN</td>\n",
       "      <td>189.0</td>\n",
       "      <td>NG</td>\n",
       "      <td>Scheduled Flight</td>\n",
       "      <td>FR</td>\n",
       "      <td>Malta Air</td>\n",
       "      <td>STN-CGN</td>\n",
       "      <td>STN-CGN</td>\n",
       "      <td>...</td>\n",
       "      <td>0.0</td>\n",
       "      <td>19.0</td>\n",
       "      <td>50.0</td>\n",
       "      <td>53620.0</td>\n",
       "      <td>58089.0</td>\n",
       "      <td>3653.0</td>\n",
       "      <td>58029.0</td>\n",
       "      <td>STN</td>\n",
       "      <td>CGN</td>\n",
       "      <td>306.931098</td>\n",
       "    </tr>\n",
       "    <tr>\n",
       "      <th>3</th>\n",
       "      <td>180538798</td>\n",
       "      <td>6893</td>\n",
       "      <td>SPRKP</td>\n",
       "      <td>189.0</td>\n",
       "      <td>NG</td>\n",
       "      <td>Scheduled Flight</td>\n",
       "      <td>FR</td>\n",
       "      <td>Ryanair Sun</td>\n",
       "      <td>DTM-KTW</td>\n",
       "      <td>DTM-KTW</td>\n",
       "      <td>...</td>\n",
       "      <td>1.0</td>\n",
       "      <td>8.0</td>\n",
       "      <td>71.0</td>\n",
       "      <td>53396.0</td>\n",
       "      <td>58999.0</td>\n",
       "      <td>4784.0</td>\n",
       "      <td>56070.0</td>\n",
       "      <td>DTM</td>\n",
       "      <td>KTW</td>\n",
       "      <td>504.890714</td>\n",
       "    </tr>\n",
       "    <tr>\n",
       "      <th>4</th>\n",
       "      <td>178863684</td>\n",
       "      <td>2156</td>\n",
       "      <td>EIDWJ</td>\n",
       "      <td>189.0</td>\n",
       "      <td>NG</td>\n",
       "      <td>Scheduled Flight</td>\n",
       "      <td>FR</td>\n",
       "      <td>Ryanair DAC</td>\n",
       "      <td>BHX-AGP</td>\n",
       "      <td>BHX-AGP</td>\n",
       "      <td>...</td>\n",
       "      <td>0.0</td>\n",
       "      <td>47.0</td>\n",
       "      <td>155.0</td>\n",
       "      <td>59199.0</td>\n",
       "      <td>68573.0</td>\n",
       "      <td>9275.0</td>\n",
       "      <td>68315.0</td>\n",
       "      <td>BHX</td>\n",
       "      <td>AGP</td>\n",
       "      <td>1097.743522</td>\n",
       "    </tr>\n",
       "  </tbody>\n",
       "</table>\n",
       "<p>5 rows × 31 columns</p>\n",
       "</div>"
      ],
      "text/plain": [
       "    FlightID  FlightNumber AircraftRegistration  AircraftCapacity  \\\n",
       "0  181142302           221                SPRZK             197.0   \n",
       "1  178908306          3373                9HQEC             189.0   \n",
       "2  178886981          2814                9HQCN             189.0   \n",
       "3  180538798          6893                SPRKP             189.0   \n",
       "4  178863684          2156                EIDWJ             189.0   \n",
       "\n",
       "  AircraftTypeGroup ServiceDescription Carrier AOCDescription ScheduledRoute  \\\n",
       "0               Max   Scheduled Flight      FR    Ryanair Sun        EMA-BUD   \n",
       "1                NG   Scheduled Flight      FR      Malta Air        TRN-MLA   \n",
       "2                NG   Scheduled Flight      FR      Malta Air        STN-CGN   \n",
       "3                NG   Scheduled Flight      FR    Ryanair Sun        DTM-KTW   \n",
       "4                NG   Scheduled Flight      FR    Ryanair DAC        BHX-AGP   \n",
       "\n",
       "  ActualRoute  ... Infants  Bags FlightTime PlannedZeroFuelWeight  PlannedTOW  \\\n",
       "0     EMA-BUD  ...     2.0  43.0      137.0               56242.0     62723.0   \n",
       "1     TRN-MLA  ...     0.0   7.0      102.0               57148.0     63878.0   \n",
       "2     STN-CGN  ...     0.0  19.0       50.0               53620.0     58089.0   \n",
       "3     DTM-KTW  ...     1.0   8.0       71.0               53396.0     58999.0   \n",
       "4     BHX-AGP  ...     0.0  47.0      155.0               59199.0     68573.0   \n",
       "\n",
       "   PlannedTripTime  TeledyneRampWeight  DepartureAirport  ArrivalAirport  \\\n",
       "0           8246.0             62075.0               EMA             BUD   \n",
       "1           6227.0             62002.0               TRN             MLA   \n",
       "2           3653.0             58029.0               STN             CGN   \n",
       "3           4784.0             56070.0               DTM             KTW   \n",
       "4           9275.0             68315.0               BHX             AGP   \n",
       "\n",
       "      distance  \n",
       "0   983.168625  \n",
       "1   737.477336  \n",
       "2   306.931098  \n",
       "3   504.890714  \n",
       "4  1097.743522  \n",
       "\n",
       "[5 rows x 31 columns]"
      ]
     },
     "execution_count": 2,
     "metadata": {},
     "output_type": "execute_result"
    }
   ],
   "source": [
    "import airportsdata\n",
    "airportsData = airportsdata.load('IATA')\n",
    "from geopy import distance\n",
    "\n",
    "df[['DepartureAirport','ArrivalAirport']] = df['ScheduledRoute'].str.split('-', expand=True)\n",
    "def calculateGeoDistance(departure,arrival):\n",
    "  try:\n",
    "    if departure == 'SXF': \n",
    "      departure = (52.3733,13.5064)\n",
    "      arrival = (airportsData[arrival]['lat'], airportsData[arrival]['lon'])\n",
    "    elif departure == 'SZY': \n",
    "      departure = (53.4879,20.9465)\n",
    "      arrival = (airportsData[arrival]['lat'], airportsData[arrival]['lon'])\n",
    "    elif arrival == 'SXF': \n",
    "      arrival = (52.3733,13.5064)\n",
    "      departure = (airportsData[departure]['lat'], airportsData[departure]['lon'])\n",
    "    elif arrival == 'SZY': \n",
    "      arrival = (53.4879,20.9465)\n",
    "      departure = (airportsData[departure]['lat'], airportsData[departure]['lon'])\n",
    "    else:\n",
    "      departure = (airportsData[departure]['lat'], airportsData[departure]['lon'])\n",
    "      arrival = (airportsData[arrival]['lat'], airportsData[arrival]['lon'])\n",
    "    dist = distance.distance(departure, arrival).miles\n",
    "    return dist\n",
    "  except: return 0\n",
    "\n",
    "df['distance'] = df.apply(lambda x: calculateGeoDistance(x.DepartureAirport, x.ArrivalAirport), axis = 1)\n",
    "df.head()"
   ]
  },
  {
   "cell_type": "markdown",
   "metadata": {},
   "source": [
    "### DryEmptyWeight for each AircraftTypeGroup\n",
    "\n",
    "- Values of DryEmptyWeight were taken from Ryanair's powerpoint.\n",
    "- For NG type there are planes with 2 capacities, so we introduce the weight by `AircraftCapacity`."
   ]
  },
  {
   "cell_type": "code",
   "execution_count": 3,
   "metadata": {},
   "outputs": [],
   "source": [
    "dWeights = {197:45070, 189: 41140, 148:37648 ,180:42600}\n",
    "df['DryEmptyWeight'] = df['AircraftCapacity'].apply(lambda x: dWeights[x])"
   ]
  },
  {
   "cell_type": "markdown",
   "metadata": {},
   "source": [
    "### Flights that had their ScheduledRoute changed\n",
    "- There are 618 flights\n",
    "- If the routes are changed in the middle of the flight, it should not affect the TeledyneRampWeight.\n",
    "- These routes change significantly BlockTimeScheduled from the actual **BlockTime** (see boxplot), while **distance** flought will also be affected. These two variables will be very relevant to estimate the **TeledyneRampWeight**\n",
    "- There is no way of predicting if the route will be changed. We choose to remove these rows from the data."
   ]
  },
  {
   "cell_type": "code",
   "execution_count": 4,
   "metadata": {},
   "outputs": [
    {
     "data": {
      "application/vnd.plotly.v1+json": {
       "config": {
        "plotlyServerURL": "https://plot.ly"
       },
       "data": [
        {
         "alignmentgroup": "True",
         "hovertemplate": "variable=%{x}<br>value=%{y}<extra></extra>",
         "legendgroup": "",
         "marker": {
          "color": "#636efa"
         },
         "name": "",
         "notched": false,
         "offsetgroup": "",
         "orientation": "v",
         "showlegend": false,
         "type": "box",
         "x": [
          "diffBlockTime",
          "diffBlockTime",
          "diffBlockTime",
          "diffBlockTime",
          "diffBlockTime",
          "diffBlockTime",
          "diffBlockTime",
          "diffBlockTime",
          "diffBlockTime",
          "diffBlockTime",
          "diffBlockTime",
          "diffBlockTime",
          "diffBlockTime",
          "diffBlockTime",
          "diffBlockTime",
          "diffBlockTime",
          "diffBlockTime",
          "diffBlockTime",
          "diffBlockTime",
          "diffBlockTime",
          "diffBlockTime",
          "diffBlockTime",
          "diffBlockTime",
          "diffBlockTime",
          "diffBlockTime",
          "diffBlockTime",
          "diffBlockTime",
          "diffBlockTime",
          "diffBlockTime",
          "diffBlockTime",
          "diffBlockTime",
          "diffBlockTime",
          "diffBlockTime",
          "diffBlockTime",
          "diffBlockTime",
          "diffBlockTime",
          "diffBlockTime",
          "diffBlockTime",
          "diffBlockTime",
          "diffBlockTime",
          "diffBlockTime",
          "diffBlockTime",
          "diffBlockTime",
          "diffBlockTime",
          "diffBlockTime",
          "diffBlockTime",
          "diffBlockTime",
          "diffBlockTime",
          "diffBlockTime",
          "diffBlockTime",
          "diffBlockTime",
          "diffBlockTime",
          "diffBlockTime",
          "diffBlockTime",
          "diffBlockTime",
          "diffBlockTime",
          "diffBlockTime",
          "diffBlockTime",
          "diffBlockTime",
          "diffBlockTime",
          "diffBlockTime",
          "diffBlockTime",
          "diffBlockTime",
          "diffBlockTime",
          "diffBlockTime",
          "diffBlockTime",
          "diffBlockTime",
          "diffBlockTime",
          "diffBlockTime",
          "diffBlockTime",
          "diffBlockTime",
          "diffBlockTime",
          "diffBlockTime",
          "diffBlockTime",
          "diffBlockTime",
          "diffBlockTime",
          "diffBlockTime",
          "diffBlockTime",
          "diffBlockTime",
          "diffBlockTime",
          "diffBlockTime",
          "diffBlockTime",
          "diffBlockTime",
          "diffBlockTime",
          "diffBlockTime",
          "diffBlockTime",
          "diffBlockTime",
          "diffBlockTime",
          "diffBlockTime",
          "diffBlockTime",
          "diffBlockTime",
          "diffBlockTime",
          "diffBlockTime",
          "diffBlockTime",
          "diffBlockTime",
          "diffBlockTime",
          "diffBlockTime",
          "diffBlockTime",
          "diffBlockTime",
          "diffBlockTime",
          "diffBlockTime",
          "diffBlockTime",
          "diffBlockTime",
          "diffBlockTime",
          "diffBlockTime",
          "diffBlockTime",
          "diffBlockTime",
          "diffBlockTime",
          "diffBlockTime",
          "diffBlockTime",
          "diffBlockTime",
          "diffBlockTime",
          "diffBlockTime",
          "diffBlockTime",
          "diffBlockTime",
          "diffBlockTime",
          "diffBlockTime",
          "diffBlockTime",
          "diffBlockTime",
          "diffBlockTime",
          "diffBlockTime",
          "diffBlockTime",
          "diffBlockTime",
          "diffBlockTime",
          "diffBlockTime",
          "diffBlockTime",
          "diffBlockTime",
          "diffBlockTime",
          "diffBlockTime",
          "diffBlockTime",
          "diffBlockTime",
          "diffBlockTime",
          "diffBlockTime",
          "diffBlockTime",
          "diffBlockTime",
          "diffBlockTime",
          "diffBlockTime",
          "diffBlockTime",
          "diffBlockTime",
          "diffBlockTime",
          "diffBlockTime",
          "diffBlockTime",
          "diffBlockTime",
          "diffBlockTime",
          "diffBlockTime",
          "diffBlockTime",
          "diffBlockTime",
          "diffBlockTime",
          "diffBlockTime",
          "diffBlockTime",
          "diffBlockTime",
          "diffBlockTime",
          "diffBlockTime",
          "diffBlockTime",
          "diffBlockTime",
          "diffBlockTime",
          "diffBlockTime",
          "diffBlockTime",
          "diffBlockTime",
          "diffBlockTime",
          "diffBlockTime",
          "diffBlockTime",
          "diffBlockTime",
          "diffBlockTime",
          "diffBlockTime",
          "diffBlockTime",
          "diffBlockTime",
          "diffBlockTime",
          "diffBlockTime",
          "diffBlockTime",
          "diffBlockTime",
          "diffBlockTime",
          "diffBlockTime",
          "diffBlockTime",
          "diffBlockTime",
          "diffBlockTime",
          "diffBlockTime",
          "diffBlockTime",
          "diffBlockTime",
          "diffBlockTime",
          "diffBlockTime",
          "diffBlockTime",
          "diffBlockTime",
          "diffBlockTime",
          "diffBlockTime",
          "diffBlockTime",
          "diffBlockTime",
          "diffBlockTime",
          "diffBlockTime",
          "diffBlockTime",
          "diffBlockTime",
          "diffBlockTime",
          "diffBlockTime",
          "diffBlockTime",
          "diffBlockTime",
          "diffBlockTime",
          "diffBlockTime",
          "diffBlockTime",
          "diffBlockTime",
          "diffBlockTime",
          "diffBlockTime",
          "diffBlockTime",
          "diffBlockTime",
          "diffBlockTime",
          "diffBlockTime",
          "diffBlockTime",
          "diffBlockTime",
          "diffBlockTime",
          "diffBlockTime",
          "diffBlockTime",
          "diffBlockTime",
          "diffBlockTime",
          "diffBlockTime",
          "diffBlockTime",
          "diffBlockTime",
          "diffBlockTime",
          "diffBlockTime",
          "diffBlockTime",
          "diffBlockTime",
          "diffBlockTime",
          "diffBlockTime",
          "diffBlockTime",
          "diffBlockTime",
          "diffBlockTime",
          "diffBlockTime",
          "diffBlockTime",
          "diffBlockTime",
          "diffBlockTime",
          "diffBlockTime",
          "diffBlockTime",
          "diffBlockTime",
          "diffBlockTime",
          "diffBlockTime",
          "diffBlockTime",
          "diffBlockTime",
          "diffBlockTime",
          "diffBlockTime",
          "diffBlockTime",
          "diffBlockTime",
          "diffBlockTime",
          "diffBlockTime",
          "diffBlockTime",
          "diffBlockTime",
          "diffBlockTime",
          "diffBlockTime",
          "diffBlockTime",
          "diffBlockTime",
          "diffBlockTime",
          "diffBlockTime",
          "diffBlockTime",
          "diffBlockTime",
          "diffBlockTime",
          "diffBlockTime",
          "diffBlockTime",
          "diffBlockTime",
          "diffBlockTime",
          "diffBlockTime",
          "diffBlockTime",
          "diffBlockTime",
          "diffBlockTime",
          "diffBlockTime",
          "diffBlockTime",
          "diffBlockTime",
          "diffBlockTime",
          "diffBlockTime",
          "diffBlockTime",
          "diffBlockTime",
          "diffBlockTime",
          "diffBlockTime",
          "diffBlockTime",
          "diffBlockTime",
          "diffBlockTime",
          "diffBlockTime",
          "diffBlockTime",
          "diffBlockTime",
          "diffBlockTime",
          "diffBlockTime",
          "diffBlockTime",
          "diffBlockTime",
          "diffBlockTime",
          "diffBlockTime",
          "diffBlockTime",
          "diffBlockTime",
          "diffBlockTime",
          "diffBlockTime",
          "diffBlockTime",
          "diffBlockTime",
          "diffBlockTime",
          "diffBlockTime",
          "diffBlockTime",
          "diffBlockTime",
          "diffBlockTime",
          "diffBlockTime",
          "diffBlockTime",
          "diffBlockTime",
          "diffBlockTime",
          "diffBlockTime",
          "diffBlockTime",
          "diffBlockTime",
          "diffBlockTime",
          "diffBlockTime",
          "diffBlockTime",
          "diffBlockTime",
          "diffBlockTime",
          "diffBlockTime",
          "diffBlockTime",
          "diffBlockTime",
          "diffBlockTime",
          "diffBlockTime",
          "diffBlockTime",
          "diffBlockTime",
          "diffBlockTime",
          "diffBlockTime",
          "diffBlockTime",
          "diffBlockTime",
          "diffBlockTime",
          "diffBlockTime",
          "diffBlockTime",
          "diffBlockTime",
          "diffBlockTime",
          "diffBlockTime",
          "diffBlockTime",
          "diffBlockTime",
          "diffBlockTime",
          "diffBlockTime",
          "diffBlockTime",
          "diffBlockTime",
          "diffBlockTime",
          "diffBlockTime",
          "diffBlockTime",
          "diffBlockTime",
          "diffBlockTime",
          "diffBlockTime",
          "diffBlockTime",
          "diffBlockTime",
          "diffBlockTime",
          "diffBlockTime",
          "diffBlockTime",
          "diffBlockTime",
          "diffBlockTime",
          "diffBlockTime",
          "diffBlockTime",
          "diffBlockTime",
          "diffBlockTime",
          "diffBlockTime",
          "diffBlockTime",
          "diffBlockTime",
          "diffBlockTime",
          "diffBlockTime",
          "diffBlockTime",
          "diffBlockTime",
          "diffBlockTime",
          "diffBlockTime",
          "diffBlockTime",
          "diffBlockTime",
          "diffBlockTime",
          "diffBlockTime",
          "diffBlockTime",
          "diffBlockTime",
          "diffBlockTime",
          "diffBlockTime",
          "diffBlockTime",
          "diffBlockTime",
          "diffBlockTime",
          "diffBlockTime",
          "diffBlockTime",
          "diffBlockTime",
          "diffBlockTime",
          "diffBlockTime",
          "diffBlockTime",
          "diffBlockTime",
          "diffBlockTime",
          "diffBlockTime",
          "diffBlockTime",
          "diffBlockTime",
          "diffBlockTime",
          "diffBlockTime",
          "diffBlockTime",
          "diffBlockTime",
          "diffBlockTime",
          "diffBlockTime",
          "diffBlockTime",
          "diffBlockTime",
          "diffBlockTime",
          "diffBlockTime",
          "diffBlockTime",
          "diffBlockTime",
          "diffBlockTime",
          "diffBlockTime",
          "diffBlockTime",
          "diffBlockTime",
          "diffBlockTime",
          "diffBlockTime",
          "diffBlockTime",
          "diffBlockTime",
          "diffBlockTime",
          "diffBlockTime",
          "diffBlockTime",
          "diffBlockTime",
          "diffBlockTime",
          "diffBlockTime",
          "diffBlockTime",
          "diffBlockTime",
          "diffBlockTime",
          "diffBlockTime",
          "diffBlockTime",
          "diffBlockTime",
          "diffBlockTime",
          "diffBlockTime",
          "diffBlockTime",
          "diffBlockTime",
          "diffBlockTime",
          "diffBlockTime",
          "diffBlockTime",
          "diffBlockTime",
          "diffBlockTime",
          "diffBlockTime",
          "diffBlockTime",
          "diffBlockTime",
          "diffBlockTime",
          "diffBlockTime",
          "diffBlockTime",
          "diffBlockTime",
          "diffBlockTime",
          "diffBlockTime",
          "diffBlockTime",
          "diffBlockTime",
          "diffBlockTime",
          "diffBlockTime",
          "diffBlockTime",
          "diffBlockTime",
          "diffBlockTime",
          "diffBlockTime",
          "diffBlockTime",
          "diffBlockTime",
          "diffBlockTime",
          "diffBlockTime",
          "diffBlockTime",
          "diffBlockTime",
          "diffBlockTime",
          "diffBlockTime",
          "diffBlockTime",
          "diffBlockTime",
          "diffBlockTime",
          "diffBlockTime",
          "diffBlockTime",
          "diffBlockTime",
          "diffBlockTime",
          "diffBlockTime",
          "diffBlockTime",
          "diffBlockTime",
          "diffBlockTime",
          "diffBlockTime",
          "diffBlockTime",
          "diffBlockTime",
          "diffBlockTime",
          "diffBlockTime",
          "diffBlockTime",
          "diffBlockTime",
          "diffBlockTime",
          "diffBlockTime",
          "diffBlockTime",
          "diffBlockTime",
          "diffBlockTime",
          "diffBlockTime",
          "diffBlockTime",
          "diffBlockTime",
          "diffBlockTime",
          "diffBlockTime",
          "diffBlockTime",
          "diffBlockTime",
          "diffBlockTime",
          "diffBlockTime",
          "diffBlockTime",
          "diffBlockTime",
          "diffBlockTime",
          "diffBlockTime",
          "diffBlockTime",
          "diffBlockTime",
          "diffBlockTime",
          "diffBlockTime",
          "diffBlockTime",
          "diffBlockTime",
          "diffBlockTime",
          "diffBlockTime",
          "diffBlockTime",
          "diffBlockTime",
          "diffBlockTime",
          "diffBlockTime",
          "diffBlockTime",
          "diffBlockTime",
          "diffBlockTime",
          "diffBlockTime",
          "diffBlockTime",
          "diffBlockTime",
          "diffBlockTime",
          "diffBlockTime",
          "diffBlockTime",
          "diffBlockTime",
          "diffBlockTime",
          "diffBlockTime",
          "diffBlockTime",
          "diffBlockTime",
          "diffBlockTime",
          "diffBlockTime",
          "diffBlockTime",
          "diffBlockTime",
          "diffBlockTime",
          "diffBlockTime",
          "diffBlockTime",
          "diffBlockTime",
          "diffBlockTime",
          "diffBlockTime",
          "diffBlockTime",
          "diffBlockTime",
          "diffBlockTime",
          "diffBlockTime",
          "diffBlockTime",
          "diffBlockTime",
          "diffBlockTime",
          "diffBlockTime",
          "diffBlockTime",
          "diffBlockTime",
          "diffBlockTime",
          "diffBlockTime",
          "diffBlockTime",
          "diffBlockTime",
          "diffBlockTime",
          "diffBlockTime",
          "diffBlockTime",
          "diffBlockTime",
          "diffBlockTime",
          "diffBlockTime",
          "diffBlockTime",
          "diffBlockTime",
          "diffBlockTime",
          "diffBlockTime",
          "diffBlockTime",
          "diffBlockTime",
          "diffBlockTime",
          "diffBlockTime",
          "diffBlockTime",
          "diffBlockTime",
          "diffBlockTime",
          "diffBlockTime",
          "diffBlockTime",
          "diffBlockTime",
          "diffBlockTime",
          "diffBlockTime",
          "diffBlockTime",
          "diffBlockTime",
          "diffBlockTime",
          "diffBlockTime",
          "diffBlockTime",
          "diffBlockTime",
          "diffBlockTime",
          "diffBlockTime",
          "diffBlockTime",
          "diffBlockTime",
          "diffBlockTime",
          "diffBlockTime",
          "diffBlockTime",
          "diffBlockTime",
          "diffBlockTime",
          "diffBlockTime",
          "diffBlockTime",
          "diffBlockTime",
          "diffBlockTime",
          "diffBlockTime",
          "diffBlockTime",
          "diffBlockTime",
          "diffBlockTime",
          "diffBlockTime",
          "diffBlockTime",
          "diffBlockTime",
          "diffBlockTime",
          "diffBlockTime",
          "diffBlockTime",
          "diffBlockTime",
          "diffBlockTime",
          "diffBlockTime",
          "diffBlockTime",
          "diffBlockTime",
          "diffBlockTime",
          "diffBlockTime",
          "diffBlockTime",
          "diffBlockTime",
          "diffBlockTime",
          "diffBlockTime",
          "diffBlockTime",
          "diffBlockTime",
          "diffBlockTime",
          "diffBlockTime",
          "diffBlockTime",
          "diffBlockTime",
          "diffBlockTime",
          "diffBlockTime",
          "diffBlockTime",
          "diffBlockTime",
          "diffBlockTime",
          "diffBlockTime",
          "diffBlockTime",
          "diffBlockTime",
          "diffBlockTime",
          "diffBlockTime",
          "diffBlockTime",
          "diffBlockTime",
          "diffBlockTime",
          "diffBlockTime",
          "diffBlockTime",
          "diffBlockTime",
          "diffBlockTime",
          "diffBlockTime",
          "diffBlockTime",
          "diffBlockTime",
          "diffBlockTime",
          "diffBlockTime",
          "diffBlockTime"
         ],
         "x0": " ",
         "xaxis": "x",
         "y": [
          54,
          -8,
          -57,
          81,
          0,
          -18,
          -55,
          63,
          -43,
          -5,
          -19,
          -33,
          -38,
          7,
          22,
          -24,
          -1,
          -14,
          -9,
          1,
          -16,
          17,
          -61,
          -76,
          -36,
          -47,
          7,
          -79,
          -13,
          -45,
          -34,
          2,
          18,
          -39,
          -11,
          25,
          -40,
          -5,
          -3,
          -19,
          -54,
          -35,
          -72,
          -58,
          28,
          2,
          140,
          -36,
          -16,
          -20,
          -92,
          -31,
          -34,
          -49,
          -52,
          -13,
          -2,
          -1,
          -57,
          13,
          -24,
          2,
          -12,
          -60,
          -13,
          10,
          118,
          13,
          -40,
          -43,
          -63,
          -16,
          -29,
          -64,
          -52,
          -45,
          129,
          -19,
          -70,
          61,
          106,
          -11,
          71,
          -41,
          -11,
          44,
          114,
          -35,
          8,
          -52,
          135,
          20,
          -55,
          -30,
          -41,
          -8,
          -49,
          -29,
          18,
          -30,
          -13,
          -24,
          -47,
          100,
          -25,
          197,
          1,
          -68,
          -20,
          -50,
          -37,
          -33,
          -9,
          -38,
          -97,
          19,
          -39,
          1,
          -64,
          -85,
          -35,
          -90,
          63,
          -26,
          -40,
          18,
          -41,
          -32,
          -47,
          2,
          -1,
          -2,
          -72,
          -23,
          -60,
          -23,
          -60,
          -43,
          -22,
          -26,
          -118,
          -33,
          -62,
          -39,
          -24,
          -25,
          -47,
          -39,
          -24,
          -48,
          26,
          -36,
          7,
          -60,
          -41,
          -14,
          -10,
          -63,
          -7,
          3,
          -45,
          -5,
          -11,
          -32,
          -21,
          -33,
          -12,
          -34,
          -97,
          -15,
          -47,
          -87,
          -66,
          -50,
          -50,
          -40,
          -4,
          -12,
          -5,
          5,
          -36,
          -33,
          40,
          -40,
          -19,
          39,
          7,
          -71,
          -35,
          -17,
          -64,
          1,
          42,
          -78,
          108,
          -30,
          -37,
          -61,
          -14,
          -14,
          -23,
          -55,
          125,
          -123,
          -36,
          -25,
          -22,
          -36,
          16,
          -21,
          -59,
          -50,
          -65,
          -56,
          17,
          -10,
          -29,
          -42,
          -47,
          -5,
          -39,
          18,
          -60,
          -29,
          -11,
          -1,
          -50,
          0,
          -40,
          -37,
          -48,
          -35,
          -16,
          -50,
          -46,
          -44,
          -24,
          -33,
          -22,
          104,
          15,
          -84,
          -42,
          -44,
          40,
          -16,
          -13,
          -16,
          -14,
          -21,
          -30,
          -49,
          -66,
          -62,
          8,
          -33,
          111,
          6,
          -26,
          -43,
          26,
          -67,
          -141,
          -31,
          23,
          32,
          -11,
          -46,
          -50,
          -8,
          -40,
          -34,
          -14,
          -59,
          10,
          -2,
          -52,
          109,
          55,
          -26,
          -36,
          -49,
          -43,
          3,
          -3,
          -19,
          -41,
          -32,
          -23,
          -35,
          -13,
          -12,
          -35,
          -97,
          -51,
          -40,
          -76,
          -49,
          -14,
          27,
          15,
          -34,
          -24,
          1,
          56,
          -62,
          145,
          -15,
          -29,
          -29,
          -33,
          -48,
          -32,
          -17,
          55,
          -29,
          -19,
          -5,
          -86,
          -12,
          -40,
          67,
          -2,
          -34,
          101,
          -56,
          -17,
          -25,
          -48,
          4,
          -24,
          -45,
          -13,
          -33,
          -50,
          -34,
          -8,
          36,
          -17,
          -9,
          -7,
          -30,
          -39,
          -45,
          -37,
          -19,
          -40,
          -47,
          -13,
          -19,
          -56,
          15,
          -62,
          135,
          5,
          64,
          -34,
          -26,
          -73,
          -24,
          -17,
          7,
          -49,
          -70,
          -25,
          -52,
          4,
          -62,
          77,
          -9,
          -66,
          -39,
          0,
          77,
          -41,
          -41,
          -38,
          2,
          -76,
          -16,
          -48,
          32,
          -45,
          -59,
          -40,
          31,
          66,
          14,
          -64,
          -32,
          -47,
          -4,
          -20,
          -30,
          -51,
          -118,
          3,
          -20,
          -2,
          49,
          -74,
          -18,
          29,
          -103,
          2,
          -30,
          73,
          -111,
          84,
          -60,
          -26,
          -26,
          4,
          -42,
          -28,
          -39,
          -18,
          -47,
          -65,
          -57,
          -39,
          -53,
          -51,
          -35,
          -8,
          -22,
          -28,
          -16,
          5,
          -61,
          -59,
          -15,
          39,
          -65,
          80,
          -17,
          -68,
          -30,
          -50,
          -68,
          1,
          -36,
          -37,
          -43,
          -49,
          -27,
          -32,
          -25,
          -39,
          -66,
          -63,
          81,
          -55,
          -50,
          -56,
          31,
          0,
          -74,
          -47,
          -31,
          -33,
          -17,
          -50,
          5,
          -54,
          -27,
          38,
          -54,
          104,
          64,
          -33,
          4,
          -39,
          -30,
          -43,
          -18,
          -22,
          -90,
          -35,
          -36,
          3,
          -65,
          -57,
          -60,
          -26,
          109,
          -52,
          -20,
          -18,
          -8,
          -39,
          -47,
          -4,
          -19,
          -53,
          -22,
          -33,
          6,
          -41,
          -73,
          -17,
          -44,
          3,
          40,
          -87,
          5,
          -68,
          -43,
          -66,
          92,
          -47,
          -41,
          -57,
          -9,
          -17,
          -38,
          -73,
          -6,
          66,
          -47,
          -50,
          -37,
          -7,
          -23,
          14,
          -70,
          4,
          26,
          -17,
          -29,
          -46,
          -28,
          92,
          -52,
          2,
          146,
          -27,
          66,
          -26,
          -46,
          -34,
          -46,
          -73,
          20,
          -35,
          -51,
          -54,
          2,
          -7,
          -51,
          17,
          10,
          -23,
          -21,
          63,
          -10,
          3,
          -41,
          -7,
          -60,
          -4,
          96,
          -51,
          -9,
          52,
          -22,
          -31,
          66,
          41,
          33,
          -36,
          -72,
          -69,
          -13,
          -29,
          -76,
          -46,
          -19,
          -17,
          -27,
          13,
          -33,
          -6,
          -5,
          -2,
          2,
          97,
          0,
          -22,
          179,
          -37,
          -24,
          -42,
          -30,
          -50,
          -31,
          -54,
          -49,
          90,
          -63,
          -61,
          3,
          12,
          -28,
          -79,
          -46,
          -83,
          -46,
          -31,
          -60,
          -52,
          -38,
          117,
          -6,
          -82,
          71,
          -49,
          -33
         ],
         "y0": " ",
         "yaxis": "y"
        }
       ],
       "layout": {
        "boxmode": "group",
        "legend": {
         "tracegroupgap": 0
        },
        "template": {
         "data": {
          "bar": [
           {
            "error_x": {
             "color": "#2a3f5f"
            },
            "error_y": {
             "color": "#2a3f5f"
            },
            "marker": {
             "line": {
              "color": "#E5ECF6",
              "width": 0.5
             },
             "pattern": {
              "fillmode": "overlay",
              "size": 10,
              "solidity": 0.2
             }
            },
            "type": "bar"
           }
          ],
          "barpolar": [
           {
            "marker": {
             "line": {
              "color": "#E5ECF6",
              "width": 0.5
             },
             "pattern": {
              "fillmode": "overlay",
              "size": 10,
              "solidity": 0.2
             }
            },
            "type": "barpolar"
           }
          ],
          "carpet": [
           {
            "aaxis": {
             "endlinecolor": "#2a3f5f",
             "gridcolor": "white",
             "linecolor": "white",
             "minorgridcolor": "white",
             "startlinecolor": "#2a3f5f"
            },
            "baxis": {
             "endlinecolor": "#2a3f5f",
             "gridcolor": "white",
             "linecolor": "white",
             "minorgridcolor": "white",
             "startlinecolor": "#2a3f5f"
            },
            "type": "carpet"
           }
          ],
          "choropleth": [
           {
            "colorbar": {
             "outlinewidth": 0,
             "ticks": ""
            },
            "type": "choropleth"
           }
          ],
          "contour": [
           {
            "colorbar": {
             "outlinewidth": 0,
             "ticks": ""
            },
            "colorscale": [
             [
              0,
              "#0d0887"
             ],
             [
              0.1111111111111111,
              "#46039f"
             ],
             [
              0.2222222222222222,
              "#7201a8"
             ],
             [
              0.3333333333333333,
              "#9c179e"
             ],
             [
              0.4444444444444444,
              "#bd3786"
             ],
             [
              0.5555555555555556,
              "#d8576b"
             ],
             [
              0.6666666666666666,
              "#ed7953"
             ],
             [
              0.7777777777777778,
              "#fb9f3a"
             ],
             [
              0.8888888888888888,
              "#fdca26"
             ],
             [
              1,
              "#f0f921"
             ]
            ],
            "type": "contour"
           }
          ],
          "contourcarpet": [
           {
            "colorbar": {
             "outlinewidth": 0,
             "ticks": ""
            },
            "type": "contourcarpet"
           }
          ],
          "heatmap": [
           {
            "colorbar": {
             "outlinewidth": 0,
             "ticks": ""
            },
            "colorscale": [
             [
              0,
              "#0d0887"
             ],
             [
              0.1111111111111111,
              "#46039f"
             ],
             [
              0.2222222222222222,
              "#7201a8"
             ],
             [
              0.3333333333333333,
              "#9c179e"
             ],
             [
              0.4444444444444444,
              "#bd3786"
             ],
             [
              0.5555555555555556,
              "#d8576b"
             ],
             [
              0.6666666666666666,
              "#ed7953"
             ],
             [
              0.7777777777777778,
              "#fb9f3a"
             ],
             [
              0.8888888888888888,
              "#fdca26"
             ],
             [
              1,
              "#f0f921"
             ]
            ],
            "type": "heatmap"
           }
          ],
          "heatmapgl": [
           {
            "colorbar": {
             "outlinewidth": 0,
             "ticks": ""
            },
            "colorscale": [
             [
              0,
              "#0d0887"
             ],
             [
              0.1111111111111111,
              "#46039f"
             ],
             [
              0.2222222222222222,
              "#7201a8"
             ],
             [
              0.3333333333333333,
              "#9c179e"
             ],
             [
              0.4444444444444444,
              "#bd3786"
             ],
             [
              0.5555555555555556,
              "#d8576b"
             ],
             [
              0.6666666666666666,
              "#ed7953"
             ],
             [
              0.7777777777777778,
              "#fb9f3a"
             ],
             [
              0.8888888888888888,
              "#fdca26"
             ],
             [
              1,
              "#f0f921"
             ]
            ],
            "type": "heatmapgl"
           }
          ],
          "histogram": [
           {
            "marker": {
             "pattern": {
              "fillmode": "overlay",
              "size": 10,
              "solidity": 0.2
             }
            },
            "type": "histogram"
           }
          ],
          "histogram2d": [
           {
            "colorbar": {
             "outlinewidth": 0,
             "ticks": ""
            },
            "colorscale": [
             [
              0,
              "#0d0887"
             ],
             [
              0.1111111111111111,
              "#46039f"
             ],
             [
              0.2222222222222222,
              "#7201a8"
             ],
             [
              0.3333333333333333,
              "#9c179e"
             ],
             [
              0.4444444444444444,
              "#bd3786"
             ],
             [
              0.5555555555555556,
              "#d8576b"
             ],
             [
              0.6666666666666666,
              "#ed7953"
             ],
             [
              0.7777777777777778,
              "#fb9f3a"
             ],
             [
              0.8888888888888888,
              "#fdca26"
             ],
             [
              1,
              "#f0f921"
             ]
            ],
            "type": "histogram2d"
           }
          ],
          "histogram2dcontour": [
           {
            "colorbar": {
             "outlinewidth": 0,
             "ticks": ""
            },
            "colorscale": [
             [
              0,
              "#0d0887"
             ],
             [
              0.1111111111111111,
              "#46039f"
             ],
             [
              0.2222222222222222,
              "#7201a8"
             ],
             [
              0.3333333333333333,
              "#9c179e"
             ],
             [
              0.4444444444444444,
              "#bd3786"
             ],
             [
              0.5555555555555556,
              "#d8576b"
             ],
             [
              0.6666666666666666,
              "#ed7953"
             ],
             [
              0.7777777777777778,
              "#fb9f3a"
             ],
             [
              0.8888888888888888,
              "#fdca26"
             ],
             [
              1,
              "#f0f921"
             ]
            ],
            "type": "histogram2dcontour"
           }
          ],
          "mesh3d": [
           {
            "colorbar": {
             "outlinewidth": 0,
             "ticks": ""
            },
            "type": "mesh3d"
           }
          ],
          "parcoords": [
           {
            "line": {
             "colorbar": {
              "outlinewidth": 0,
              "ticks": ""
             }
            },
            "type": "parcoords"
           }
          ],
          "pie": [
           {
            "automargin": true,
            "type": "pie"
           }
          ],
          "scatter": [
           {
            "fillpattern": {
             "fillmode": "overlay",
             "size": 10,
             "solidity": 0.2
            },
            "type": "scatter"
           }
          ],
          "scatter3d": [
           {
            "line": {
             "colorbar": {
              "outlinewidth": 0,
              "ticks": ""
             }
            },
            "marker": {
             "colorbar": {
              "outlinewidth": 0,
              "ticks": ""
             }
            },
            "type": "scatter3d"
           }
          ],
          "scattercarpet": [
           {
            "marker": {
             "colorbar": {
              "outlinewidth": 0,
              "ticks": ""
             }
            },
            "type": "scattercarpet"
           }
          ],
          "scattergeo": [
           {
            "marker": {
             "colorbar": {
              "outlinewidth": 0,
              "ticks": ""
             }
            },
            "type": "scattergeo"
           }
          ],
          "scattergl": [
           {
            "marker": {
             "colorbar": {
              "outlinewidth": 0,
              "ticks": ""
             }
            },
            "type": "scattergl"
           }
          ],
          "scattermapbox": [
           {
            "marker": {
             "colorbar": {
              "outlinewidth": 0,
              "ticks": ""
             }
            },
            "type": "scattermapbox"
           }
          ],
          "scatterpolar": [
           {
            "marker": {
             "colorbar": {
              "outlinewidth": 0,
              "ticks": ""
             }
            },
            "type": "scatterpolar"
           }
          ],
          "scatterpolargl": [
           {
            "marker": {
             "colorbar": {
              "outlinewidth": 0,
              "ticks": ""
             }
            },
            "type": "scatterpolargl"
           }
          ],
          "scatterternary": [
           {
            "marker": {
             "colorbar": {
              "outlinewidth": 0,
              "ticks": ""
             }
            },
            "type": "scatterternary"
           }
          ],
          "surface": [
           {
            "colorbar": {
             "outlinewidth": 0,
             "ticks": ""
            },
            "colorscale": [
             [
              0,
              "#0d0887"
             ],
             [
              0.1111111111111111,
              "#46039f"
             ],
             [
              0.2222222222222222,
              "#7201a8"
             ],
             [
              0.3333333333333333,
              "#9c179e"
             ],
             [
              0.4444444444444444,
              "#bd3786"
             ],
             [
              0.5555555555555556,
              "#d8576b"
             ],
             [
              0.6666666666666666,
              "#ed7953"
             ],
             [
              0.7777777777777778,
              "#fb9f3a"
             ],
             [
              0.8888888888888888,
              "#fdca26"
             ],
             [
              1,
              "#f0f921"
             ]
            ],
            "type": "surface"
           }
          ],
          "table": [
           {
            "cells": {
             "fill": {
              "color": "#EBF0F8"
             },
             "line": {
              "color": "white"
             }
            },
            "header": {
             "fill": {
              "color": "#C8D4E3"
             },
             "line": {
              "color": "white"
             }
            },
            "type": "table"
           }
          ]
         },
         "layout": {
          "annotationdefaults": {
           "arrowcolor": "#2a3f5f",
           "arrowhead": 0,
           "arrowwidth": 1
          },
          "autotypenumbers": "strict",
          "coloraxis": {
           "colorbar": {
            "outlinewidth": 0,
            "ticks": ""
           }
          },
          "colorscale": {
           "diverging": [
            [
             0,
             "#8e0152"
            ],
            [
             0.1,
             "#c51b7d"
            ],
            [
             0.2,
             "#de77ae"
            ],
            [
             0.3,
             "#f1b6da"
            ],
            [
             0.4,
             "#fde0ef"
            ],
            [
             0.5,
             "#f7f7f7"
            ],
            [
             0.6,
             "#e6f5d0"
            ],
            [
             0.7,
             "#b8e186"
            ],
            [
             0.8,
             "#7fbc41"
            ],
            [
             0.9,
             "#4d9221"
            ],
            [
             1,
             "#276419"
            ]
           ],
           "sequential": [
            [
             0,
             "#0d0887"
            ],
            [
             0.1111111111111111,
             "#46039f"
            ],
            [
             0.2222222222222222,
             "#7201a8"
            ],
            [
             0.3333333333333333,
             "#9c179e"
            ],
            [
             0.4444444444444444,
             "#bd3786"
            ],
            [
             0.5555555555555556,
             "#d8576b"
            ],
            [
             0.6666666666666666,
             "#ed7953"
            ],
            [
             0.7777777777777778,
             "#fb9f3a"
            ],
            [
             0.8888888888888888,
             "#fdca26"
            ],
            [
             1,
             "#f0f921"
            ]
           ],
           "sequentialminus": [
            [
             0,
             "#0d0887"
            ],
            [
             0.1111111111111111,
             "#46039f"
            ],
            [
             0.2222222222222222,
             "#7201a8"
            ],
            [
             0.3333333333333333,
             "#9c179e"
            ],
            [
             0.4444444444444444,
             "#bd3786"
            ],
            [
             0.5555555555555556,
             "#d8576b"
            ],
            [
             0.6666666666666666,
             "#ed7953"
            ],
            [
             0.7777777777777778,
             "#fb9f3a"
            ],
            [
             0.8888888888888888,
             "#fdca26"
            ],
            [
             1,
             "#f0f921"
            ]
           ]
          },
          "colorway": [
           "#636efa",
           "#EF553B",
           "#00cc96",
           "#ab63fa",
           "#FFA15A",
           "#19d3f3",
           "#FF6692",
           "#B6E880",
           "#FF97FF",
           "#FECB52"
          ],
          "font": {
           "color": "#2a3f5f"
          },
          "geo": {
           "bgcolor": "white",
           "lakecolor": "white",
           "landcolor": "#E5ECF6",
           "showlakes": true,
           "showland": true,
           "subunitcolor": "white"
          },
          "hoverlabel": {
           "align": "left"
          },
          "hovermode": "closest",
          "mapbox": {
           "style": "light"
          },
          "paper_bgcolor": "white",
          "plot_bgcolor": "#E5ECF6",
          "polar": {
           "angularaxis": {
            "gridcolor": "white",
            "linecolor": "white",
            "ticks": ""
           },
           "bgcolor": "#E5ECF6",
           "radialaxis": {
            "gridcolor": "white",
            "linecolor": "white",
            "ticks": ""
           }
          },
          "scene": {
           "xaxis": {
            "backgroundcolor": "#E5ECF6",
            "gridcolor": "white",
            "gridwidth": 2,
            "linecolor": "white",
            "showbackground": true,
            "ticks": "",
            "zerolinecolor": "white"
           },
           "yaxis": {
            "backgroundcolor": "#E5ECF6",
            "gridcolor": "white",
            "gridwidth": 2,
            "linecolor": "white",
            "showbackground": true,
            "ticks": "",
            "zerolinecolor": "white"
           },
           "zaxis": {
            "backgroundcolor": "#E5ECF6",
            "gridcolor": "white",
            "gridwidth": 2,
            "linecolor": "white",
            "showbackground": true,
            "ticks": "",
            "zerolinecolor": "white"
           }
          },
          "shapedefaults": {
           "line": {
            "color": "#2a3f5f"
           }
          },
          "ternary": {
           "aaxis": {
            "gridcolor": "white",
            "linecolor": "white",
            "ticks": ""
           },
           "baxis": {
            "gridcolor": "white",
            "linecolor": "white",
            "ticks": ""
           },
           "bgcolor": "#E5ECF6",
           "caxis": {
            "gridcolor": "white",
            "linecolor": "white",
            "ticks": ""
           }
          },
          "title": {
           "x": 0.05
          },
          "xaxis": {
           "automargin": true,
           "gridcolor": "white",
           "linecolor": "white",
           "ticks": "",
           "title": {
            "standoff": 15
           },
           "zerolinecolor": "white",
           "zerolinewidth": 2
          },
          "yaxis": {
           "automargin": true,
           "gridcolor": "white",
           "linecolor": "white",
           "ticks": "",
           "title": {
            "standoff": 15
           },
           "zerolinecolor": "white",
           "zerolinewidth": 2
          }
         }
        },
        "title": {
         "text": "Difference in BlockTime (Planned and Actual) when route is changed"
        },
        "xaxis": {
         "anchor": "y",
         "domain": [
          0,
          1
         ],
         "title": {
          "text": "variable"
         }
        },
        "yaxis": {
         "anchor": "x",
         "domain": [
          0,
          1
         ],
         "title": {
          "text": "value"
         }
        }
       }
      }
     },
     "metadata": {},
     "output_type": "display_data"
    }
   ],
   "source": [
    "df['diffBlockTime'] = df['BlockTimeScheduled'] - df['BlockTime']\n",
    "px.box(df.loc[df.ScheduledRoute != df.ActualRoute,'diffBlockTime'], title='Difference in BlockTime (Planned and Actual) when route is changed')"
   ]
  },
  {
   "cell_type": "code",
   "execution_count": 5,
   "metadata": {},
   "outputs": [],
   "source": [
    "# Keep only non-changed routes.\n",
    "df = df.loc[df.ScheduledRoute == df.ActualRoute,:]"
   ]
  },
  {
   "cell_type": "markdown",
   "metadata": {},
   "source": [
    "### Flight Times\n",
    "- Largest routes stay below 400 minutes `FlightTime`. \n",
    "- Above 400 min we find outliers. Wrong inputations probably. We drop these."
   ]
  },
  {
   "cell_type": "code",
   "execution_count": 6,
   "metadata": {},
   "outputs": [
    {
     "data": {
      "text/html": [
       "<div>\n",
       "<style scoped>\n",
       "    .dataframe tbody tr th:only-of-type {\n",
       "        vertical-align: middle;\n",
       "    }\n",
       "\n",
       "    .dataframe tbody tr th {\n",
       "        vertical-align: top;\n",
       "    }\n",
       "\n",
       "    .dataframe thead th {\n",
       "        text-align: right;\n",
       "    }\n",
       "</style>\n",
       "<table border=\"1\" class=\"dataframe\">\n",
       "  <thead>\n",
       "    <tr style=\"text-align: right;\">\n",
       "      <th></th>\n",
       "      <th>ScheduledRoute</th>\n",
       "      <th>PlannedTripTime</th>\n",
       "      <th>FlightTime</th>\n",
       "      <th>distance</th>\n",
       "      <th>BlockTime</th>\n",
       "    </tr>\n",
       "  </thead>\n",
       "  <tbody>\n",
       "    <tr>\n",
       "      <th>83730</th>\n",
       "      <td>LPL-DUB</td>\n",
       "      <td>37.650000</td>\n",
       "      <td>1468.0</td>\n",
       "      <td>141.556097</td>\n",
       "      <td>43.0</td>\n",
       "    </tr>\n",
       "    <tr>\n",
       "      <th>345339</th>\n",
       "      <td>STN-FKB</td>\n",
       "      <td>63.916667</td>\n",
       "      <td>1500.0</td>\n",
       "      <td>407.780570</td>\n",
       "      <td>77.0</td>\n",
       "    </tr>\n",
       "    <tr>\n",
       "      <th>758571</th>\n",
       "      <td>BDS-MXP</td>\n",
       "      <td>109.600000</td>\n",
       "      <td>1527.0</td>\n",
       "      <td>578.180982</td>\n",
       "      <td>102.0</td>\n",
       "    </tr>\n",
       "    <tr>\n",
       "      <th>300085</th>\n",
       "      <td>BVA-ALC</td>\n",
       "      <td>116.600000</td>\n",
       "      <td>1550.0</td>\n",
       "      <td>782.648183</td>\n",
       "      <td>124.0</td>\n",
       "    </tr>\n",
       "    <tr>\n",
       "      <th>618059</th>\n",
       "      <td>KRK-STN</td>\n",
       "      <td>121.633333</td>\n",
       "      <td>1559.0</td>\n",
       "      <td>859.504205</td>\n",
       "      <td>140.0</td>\n",
       "    </tr>\n",
       "    <tr>\n",
       "      <th>726402</th>\n",
       "      <td>BRI-BVA</td>\n",
       "      <td>139.433333</td>\n",
       "      <td>1576.0</td>\n",
       "      <td>913.459829</td>\n",
       "      <td>154.0</td>\n",
       "    </tr>\n",
       "    <tr>\n",
       "      <th>698059</th>\n",
       "      <td>WMI-EDI</td>\n",
       "      <td>152.283333</td>\n",
       "      <td>1579.0</td>\n",
       "      <td>998.239064</td>\n",
       "      <td>163.0</td>\n",
       "    </tr>\n",
       "    <tr>\n",
       "      <th>204748</th>\n",
       "      <td>LIS-STN</td>\n",
       "      <td>153.550000</td>\n",
       "      <td>1584.0</td>\n",
       "      <td>1011.565340</td>\n",
       "      <td>162.0</td>\n",
       "    </tr>\n",
       "    <tr>\n",
       "      <th>501644</th>\n",
       "      <td>WRO-DUB</td>\n",
       "      <td>151.650000</td>\n",
       "      <td>1585.0</td>\n",
       "      <td>990.836416</td>\n",
       "      <td>157.0</td>\n",
       "    </tr>\n",
       "    <tr>\n",
       "      <th>61899</th>\n",
       "      <td>LUX-LIS</td>\n",
       "      <td>153.683333</td>\n",
       "      <td>1586.0</td>\n",
       "      <td>1064.601590</td>\n",
       "      <td>164.0</td>\n",
       "    </tr>\n",
       "    <tr>\n",
       "      <th>695150</th>\n",
       "      <td>PMO-STN</td>\n",
       "      <td>162.283333</td>\n",
       "      <td>1597.0</td>\n",
       "      <td>1133.151043</td>\n",
       "      <td>173.0</td>\n",
       "    </tr>\n",
       "    <tr>\n",
       "      <th>647380</th>\n",
       "      <td>DUB-FUE</td>\n",
       "      <td>234.350000</td>\n",
       "      <td>1661.0</td>\n",
       "      <td>1765.864063</td>\n",
       "      <td>249.0</td>\n",
       "    </tr>\n",
       "    <tr>\n",
       "      <th>166746</th>\n",
       "      <td>FUE-MAN</td>\n",
       "      <td>245.166667</td>\n",
       "      <td>1678.0</td>\n",
       "      <td>1816.902233</td>\n",
       "      <td>255.0</td>\n",
       "    </tr>\n",
       "  </tbody>\n",
       "</table>\n",
       "</div>"
      ],
      "text/plain": [
       "       ScheduledRoute  PlannedTripTime  FlightTime     distance  BlockTime\n",
       "83730         LPL-DUB        37.650000      1468.0   141.556097       43.0\n",
       "345339        STN-FKB        63.916667      1500.0   407.780570       77.0\n",
       "758571        BDS-MXP       109.600000      1527.0   578.180982      102.0\n",
       "300085        BVA-ALC       116.600000      1550.0   782.648183      124.0\n",
       "618059        KRK-STN       121.633333      1559.0   859.504205      140.0\n",
       "726402        BRI-BVA       139.433333      1576.0   913.459829      154.0\n",
       "698059        WMI-EDI       152.283333      1579.0   998.239064      163.0\n",
       "204748        LIS-STN       153.550000      1584.0  1011.565340      162.0\n",
       "501644        WRO-DUB       151.650000      1585.0   990.836416      157.0\n",
       "61899         LUX-LIS       153.683333      1586.0  1064.601590      164.0\n",
       "695150        PMO-STN       162.283333      1597.0  1133.151043      173.0\n",
       "647380        DUB-FUE       234.350000      1661.0  1765.864063      249.0\n",
       "166746        FUE-MAN       245.166667      1678.0  1816.902233      255.0"
      ]
     },
     "execution_count": 6,
     "metadata": {},
     "output_type": "execute_result"
    }
   ],
   "source": [
    "df['PlannedTripTime'] = df['PlannedTripTime']/60\n",
    "df.loc[df.FlightTime > 400, ['ScheduledRoute','PlannedTripTime','FlightTime','distance','BlockTime']].sort_values('FlightTime')"
   ]
  },
  {
   "cell_type": "code",
   "execution_count": 7,
   "metadata": {},
   "outputs": [],
   "source": [
    "df = df.loc[df.FlightTime < 400,:]"
   ]
  },
  {
   "cell_type": "markdown",
   "metadata": {},
   "source": [
    "- There are 121 flights where `FlightTime` >= `BlockTime` (time from departure to arrival including taxis).\n",
    "- Either `FlightTime` or `BlockTime` are wrongly inputed.\n",
    "- The FlightTime is also clearly higher than the route's median FlightTime as well as ryanair's model `PlannedTripTime` (accounting only for flight time).\n",
    "- Drop these."
   ]
  },
  {
   "cell_type": "code",
   "execution_count": 8,
   "metadata": {},
   "outputs": [
    {
     "data": {
      "text/html": [
       "<div>\n",
       "<style scoped>\n",
       "    .dataframe tbody tr th:only-of-type {\n",
       "        vertical-align: middle;\n",
       "    }\n",
       "\n",
       "    .dataframe tbody tr th {\n",
       "        vertical-align: top;\n",
       "    }\n",
       "\n",
       "    .dataframe thead th {\n",
       "        text-align: right;\n",
       "    }\n",
       "</style>\n",
       "<table border=\"1\" class=\"dataframe\">\n",
       "  <thead>\n",
       "    <tr style=\"text-align: right;\">\n",
       "      <th></th>\n",
       "      <th>distance</th>\n",
       "      <th>PlannedTripTime</th>\n",
       "      <th>FlightTime</th>\n",
       "      <th>BlockTime</th>\n",
       "      <th>BlockTimeScheduled</th>\n",
       "    </tr>\n",
       "  </thead>\n",
       "  <tbody>\n",
       "    <tr>\n",
       "      <th>7452</th>\n",
       "      <td>599.944664</td>\n",
       "      <td>95.200000</td>\n",
       "      <td>153.0</td>\n",
       "      <td>107.0</td>\n",
       "      <td>105.0</td>\n",
       "    </tr>\n",
       "    <tr>\n",
       "      <th>11697</th>\n",
       "      <td>1450.857639</td>\n",
       "      <td>197.650000</td>\n",
       "      <td>246.0</td>\n",
       "      <td>200.0</td>\n",
       "      <td>210.0</td>\n",
       "    </tr>\n",
       "    <tr>\n",
       "      <th>19456</th>\n",
       "      <td>813.308658</td>\n",
       "      <td>119.100000</td>\n",
       "      <td>171.0</td>\n",
       "      <td>141.0</td>\n",
       "      <td>135.0</td>\n",
       "    </tr>\n",
       "    <tr>\n",
       "      <th>20129</th>\n",
       "      <td>470.787594</td>\n",
       "      <td>80.050000</td>\n",
       "      <td>133.0</td>\n",
       "      <td>85.0</td>\n",
       "      <td>95.0</td>\n",
       "    </tr>\n",
       "    <tr>\n",
       "      <th>38746</th>\n",
       "      <td>922.133841</td>\n",
       "      <td>135.216667</td>\n",
       "      <td>188.0</td>\n",
       "      <td>144.0</td>\n",
       "      <td>150.0</td>\n",
       "    </tr>\n",
       "    <tr>\n",
       "      <th>...</th>\n",
       "      <td>...</td>\n",
       "      <td>...</td>\n",
       "      <td>...</td>\n",
       "      <td>...</td>\n",
       "      <td>...</td>\n",
       "    </tr>\n",
       "    <tr>\n",
       "      <th>755089</th>\n",
       "      <td>926.938504</td>\n",
       "      <td>148.250000</td>\n",
       "      <td>193.0</td>\n",
       "      <td>153.0</td>\n",
       "      <td>170.0</td>\n",
       "    </tr>\n",
       "    <tr>\n",
       "      <th>755205</th>\n",
       "      <td>718.538742</td>\n",
       "      <td>107.516667</td>\n",
       "      <td>158.0</td>\n",
       "      <td>114.0</td>\n",
       "      <td>120.0</td>\n",
       "    </tr>\n",
       "    <tr>\n",
       "      <th>758394</th>\n",
       "      <td>799.784025</td>\n",
       "      <td>113.866667</td>\n",
       "      <td>167.0</td>\n",
       "      <td>122.0</td>\n",
       "      <td>135.0</td>\n",
       "    </tr>\n",
       "    <tr>\n",
       "      <th>759797</th>\n",
       "      <td>363.498477</td>\n",
       "      <td>63.433333</td>\n",
       "      <td>117.0</td>\n",
       "      <td>69.0</td>\n",
       "      <td>75.0</td>\n",
       "    </tr>\n",
       "    <tr>\n",
       "      <th>763183</th>\n",
       "      <td>774.223372</td>\n",
       "      <td>118.183333</td>\n",
       "      <td>170.0</td>\n",
       "      <td>126.0</td>\n",
       "      <td>130.0</td>\n",
       "    </tr>\n",
       "  </tbody>\n",
       "</table>\n",
       "<p>108 rows × 5 columns</p>\n",
       "</div>"
      ],
      "text/plain": [
       "           distance  PlannedTripTime  FlightTime  BlockTime  \\\n",
       "7452     599.944664        95.200000       153.0      107.0   \n",
       "11697   1450.857639       197.650000       246.0      200.0   \n",
       "19456    813.308658       119.100000       171.0      141.0   \n",
       "20129    470.787594        80.050000       133.0       85.0   \n",
       "38746    922.133841       135.216667       188.0      144.0   \n",
       "...             ...              ...         ...        ...   \n",
       "755089   926.938504       148.250000       193.0      153.0   \n",
       "755205   718.538742       107.516667       158.0      114.0   \n",
       "758394   799.784025       113.866667       167.0      122.0   \n",
       "759797   363.498477        63.433333       117.0       69.0   \n",
       "763183   774.223372       118.183333       170.0      126.0   \n",
       "\n",
       "        BlockTimeScheduled  \n",
       "7452                 105.0  \n",
       "11697                210.0  \n",
       "19456                135.0  \n",
       "20129                 95.0  \n",
       "38746                150.0  \n",
       "...                    ...  \n",
       "755089               170.0  \n",
       "755205               120.0  \n",
       "758394               135.0  \n",
       "759797                75.0  \n",
       "763183               130.0  \n",
       "\n",
       "[108 rows x 5 columns]"
      ]
     },
     "execution_count": 8,
     "metadata": {},
     "output_type": "execute_result"
    }
   ],
   "source": [
    "df.loc[df.FlightTime >= df.BlockTime, ['distance','PlannedTripTime','FlightTime','BlockTime','BlockTimeScheduled']]"
   ]
  },
  {
   "cell_type": "code",
   "execution_count": 9,
   "metadata": {},
   "outputs": [],
   "source": [
    "df = df.loc[df.FlightTime <= df.BlockTime,:]"
   ]
  },
  {
   "cell_type": "markdown",
   "metadata": {},
   "source": [
    "- There are 28 flights with `FlightTime` == 0\n",
    "- If these are flights that couldn't start their flight for some reason, this will introduce noise for the prediction of the `TeledyneRampWeight`\n",
    "- Drop these"
   ]
  },
  {
   "cell_type": "code",
   "execution_count": 10,
   "metadata": {},
   "outputs": [],
   "source": [
    "df.loc[df.FlightTime == 0,:].shape\n",
    "df = df.loc[df.FlightTime > 0,:]"
   ]
  },
  {
   "cell_type": "markdown",
   "metadata": {},
   "source": [
    "- We calculate the `flightTimeRatio`to see outliers of `FlightTime`\n",
    "- Those that have a FlightTime of more than 30% of the AvgFlightTime on that route are dropped (1445)\n",
    "- Those that have a FlightTime less than 80% of the AvgFlightTime on that route are dropped (874)"
   ]
  },
  {
   "cell_type": "code",
   "execution_count": 11,
   "metadata": {},
   "outputs": [
    {
     "data": {
      "text/html": [
       "<div>\n",
       "<style scoped>\n",
       "    .dataframe tbody tr th:only-of-type {\n",
       "        vertical-align: middle;\n",
       "    }\n",
       "\n",
       "    .dataframe tbody tr th {\n",
       "        vertical-align: top;\n",
       "    }\n",
       "\n",
       "    .dataframe thead th {\n",
       "        text-align: right;\n",
       "    }\n",
       "</style>\n",
       "<table border=\"1\" class=\"dataframe\">\n",
       "  <thead>\n",
       "    <tr style=\"text-align: right;\">\n",
       "      <th></th>\n",
       "      <th>FlightTime</th>\n",
       "      <th>avgFlighTimeRoute</th>\n",
       "    </tr>\n",
       "  </thead>\n",
       "  <tbody>\n",
       "    <tr>\n",
       "      <th>17880</th>\n",
       "      <td>1.0</td>\n",
       "      <td>73.134875</td>\n",
       "    </tr>\n",
       "    <tr>\n",
       "      <th>348045</th>\n",
       "      <td>1.0</td>\n",
       "      <td>22.057692</td>\n",
       "    </tr>\n",
       "    <tr>\n",
       "      <th>98538</th>\n",
       "      <td>1.0</td>\n",
       "      <td>53.655570</td>\n",
       "    </tr>\n",
       "    <tr>\n",
       "      <th>280048</th>\n",
       "      <td>2.0</td>\n",
       "      <td>63.471299</td>\n",
       "    </tr>\n",
       "    <tr>\n",
       "      <th>246890</th>\n",
       "      <td>3.0</td>\n",
       "      <td>62.040234</td>\n",
       "    </tr>\n",
       "    <tr>\n",
       "      <th>...</th>\n",
       "      <td>...</td>\n",
       "      <td>...</td>\n",
       "    </tr>\n",
       "    <tr>\n",
       "      <th>388217</th>\n",
       "      <td>197.0</td>\n",
       "      <td>246.756757</td>\n",
       "    </tr>\n",
       "    <tr>\n",
       "      <th>96956</th>\n",
       "      <td>201.0</td>\n",
       "      <td>251.741697</td>\n",
       "    </tr>\n",
       "    <tr>\n",
       "      <th>211125</th>\n",
       "      <td>208.0</td>\n",
       "      <td>261.793103</td>\n",
       "    </tr>\n",
       "    <tr>\n",
       "      <th>163066</th>\n",
       "      <td>209.0</td>\n",
       "      <td>262.321739</td>\n",
       "    </tr>\n",
       "    <tr>\n",
       "      <th>286049</th>\n",
       "      <td>211.0</td>\n",
       "      <td>263.932203</td>\n",
       "    </tr>\n",
       "  </tbody>\n",
       "</table>\n",
       "<p>874 rows × 2 columns</p>\n",
       "</div>"
      ],
      "text/plain": [
       "        FlightTime  avgFlighTimeRoute\n",
       "17880          1.0          73.134875\n",
       "348045         1.0          22.057692\n",
       "98538          1.0          53.655570\n",
       "280048         2.0          63.471299\n",
       "246890         3.0          62.040234\n",
       "...            ...                ...\n",
       "388217       197.0         246.756757\n",
       "96956        201.0         251.741697\n",
       "211125       208.0         261.793103\n",
       "163066       209.0         262.321739\n",
       "286049       211.0         263.932203\n",
       "\n",
       "[874 rows x 2 columns]"
      ]
     },
     "execution_count": 11,
     "metadata": {},
     "output_type": "execute_result"
    }
   ],
   "source": [
    "# Calculate average flight time per route\n",
    "df['avgFlighTimeRoute'] = df['ScheduledRoute'].map(df.groupby('ScheduledRoute')['FlightTime'].mean())\n",
    "# Calculate number of flights per route\n",
    "df['numberOfFlights'] = df['ScheduledRoute'].map(df.groupby('ScheduledRoute')['FlightID'].count())\n",
    "# Calculate FlightTime/avgFlighTimeRoute\n",
    "df['flightTimeRatio'] = df['FlightTime'] / df['avgFlighTimeRoute']\n",
    "df.loc[df.flightTimeRatio < 0.8,['FlightTime','avgFlighTimeRoute']].sort_values(by='FlightTime')"
   ]
  },
  {
   "cell_type": "code",
   "execution_count": 12,
   "metadata": {},
   "outputs": [],
   "source": [
    "df = df.loc[df.flightTimeRatio > 0.8,:]\n",
    "df = df.loc[df.flightTimeRatio < 1.3,:]"
   ]
  },
  {
   "cell_type": "markdown",
   "metadata": {},
   "source": [
    "### Taxis\n",
    "- TaxiOut might vary a lot. Depends on DepartureAirport\n",
    "- All flights with 2.5*STD of their mean TaxiOut are dropped."
   ]
  },
  {
   "cell_type": "code",
   "execution_count": 13,
   "metadata": {},
   "outputs": [
    {
     "data": {
      "application/vnd.plotly.v1+json": {
       "config": {
        "plotlyServerURL": "https://plot.ly"
       },
       "data": [
        {
         "hovertemplate": "DepartureAirport=%{x}<br>median=%{y}<extra></extra>",
         "legendgroup": "",
         "marker": {
          "color": "#636efa",
          "symbol": "circle"
         },
         "mode": "markers",
         "name": "",
         "orientation": "v",
         "showlegend": false,
         "type": "scatter",
         "x": [
          "AAL",
          "AAR",
          "ABZ",
          "ACE",
          "ADB",
          "AGA",
          "AGP",
          "AHO",
          "ALC",
          "AMM",
          "AMS",
          "AOI",
          "AQJ",
          "ARN",
          "ATH",
          "AYT",
          "BCN",
          "BDS",
          "BER",
          "BES",
          "BEY",
          "BFS",
          "BGY",
          "BHD",
          "BHX",
          "BIO",
          "BIQ",
          "BJV",
          "BLL",
          "BLQ",
          "BNX",
          "BOD",
          "BOH",
          "BOJ",
          "BRE",
          "BRI",
          "BRQ",
          "BRS",
          "BRU",
          "BSL",
          "BTS",
          "BUD",
          "BVA",
          "BVE",
          "BZG",
          "BZR",
          "CAG",
          "CCF",
          "CDG",
          "CDT",
          "CFE",
          "CFU",
          "CGN",
          "CHQ",
          "CIA",
          "CIY",
          "CLJ",
          "CPH",
          "CRL",
          "CRV",
          "CTA",
          "CUF",
          "CWL",
          "DBV",
          "DLE",
          "DLM",
          "DNR",
          "DRS",
          "DTM",
          "DUB",
          "DUS",
          "EDI",
          "EFL",
          "EGC",
          "EIN",
          "EMA",
          "ERF",
          "ESU",
          "EVN",
          "EXT",
          "FAO",
          "FCO",
          "FDH",
          "FEZ",
          "FKB",
          "FMM",
          "FMO",
          "FNC",
          "FNI",
          "FRA",
          "FSC",
          "FUE",
          "GDN",
          "GLA",
          "GNB",
          "GOA",
          "GOT",
          "GRO",
          "HAJ",
          "HAM",
          "HAU",
          "HEL",
          "HER",
          "HHN",
          "HRK",
          "IBZ",
          "INI",
          "JMK",
          "JSI",
          "JTR",
          "KBP",
          "KGS",
          "KHE",
          "KIR",
          "KLU",
          "KLX",
          "KRK",
          "KSC",
          "KTW",
          "KUN",
          "KUT",
          "LBA",
          "LCA",
          "LCJ",
          "LDE",
          "LDY",
          "LEI",
          "LGW",
          "LIG",
          "LIL",
          "LIS",
          "LLA",
          "LPA",
          "LPL",
          "LPP",
          "LRH",
          "LTN",
          "LUX",
          "LUZ",
          "LWO",
          "MAD",
          "MAH",
          "MAN",
          "MLA",
          "MME",
          "MMX",
          "MRS",
          "MST",
          "MUC",
          "MXP",
          "NAP",
          "NCE",
          "NCL",
          "NDR",
          "NOC",
          "NQY",
          "NRN",
          "NTE",
          "NUE",
          "NYO",
          "ODS",
          "OMR",
          "OPO",
          "ORK",
          "OSL",
          "OSR",
          "OTP",
          "OUD",
          "OZZ",
          "PDL",
          "PDV",
          "PED",
          "PEG",
          "PFO",
          "PGF",
          "PIK",
          "PIS",
          "PLQ",
          "PMF",
          "PMI",
          "PMO",
          "POZ",
          "PRG",
          "PSA",
          "PSR",
          "PUY",
          "PVK",
          "RAK",
          "RBA",
          "RDZ",
          "REU",
          "RHO",
          "RIX",
          "RJK",
          "RMI",
          "RMU",
          "RZE",
          "SBZ",
          "SCQ",
          "SCV",
          "SDR",
          "SEN",
          "SFT",
          "SKG",
          "SNN",
          "SOF",
          "SPC",
          "SPU",
          "STN",
          "STR",
          "SUF",
          "SVQ",
          "SXB",
          "SXF",
          "SZG",
          "SZY",
          "SZZ",
          "TBS",
          "TER",
          "TFN",
          "TFS",
          "TGD",
          "TIA",
          "TLL",
          "TLS",
          "TLV",
          "TMP",
          "TNG",
          "TPS",
          "TRF",
          "TRN",
          "TRS",
          "TSF",
          "TSR",
          "TTU",
          "TUF",
          "TXL",
          "VAR",
          "VBY",
          "VCE",
          "VGO",
          "VIE",
          "VIT",
          "VLC",
          "VLL",
          "VNO",
          "VRN",
          "VST",
          "VXO",
          "WAW",
          "WMI",
          "WRO",
          "XCR",
          "XRY",
          "ZAD",
          "ZAG",
          "ZAZ",
          "ZTH"
         ],
         "xaxis": "x",
         "y": [
          10,
          6,
          10,
          10,
          11,
          10,
          11,
          9,
          10,
          13,
          14,
          5,
          10,
          10,
          11,
          15,
          16,
          7,
          11,
          10,
          13,
          10,
          10,
          9,
          10,
          9,
          8,
          10,
          10,
          10,
          5,
          10,
          10,
          6,
          9,
          9,
          5.5,
          9,
          11,
          10.5,
          9,
          10,
          10,
          6,
          8,
          6,
          9,
          6,
          15,
          9,
          7,
          11,
          10,
          12,
          10,
          6,
          10,
          11,
          10,
          7,
          11,
          7,
          9,
          7,
          7,
          9,
          6,
          10,
          7,
          11,
          11,
          9,
          10,
          6,
          9,
          9,
          7,
          7,
          10,
          10,
          9,
          12,
          5,
          10,
          8,
          9,
          7,
          10,
          7,
          15,
          10,
          10,
          9,
          10,
          10,
          9,
          9,
          9,
          10,
          9,
          8,
          13,
          8,
          9,
          6,
          8,
          5,
          10,
          10,
          10,
          12,
          10,
          6,
          5,
          4,
          7,
          9,
          6,
          10,
          6,
          7,
          9,
          13,
          6,
          9,
          9,
          6,
          12,
          5,
          9,
          11,
          9,
          11,
          9,
          6,
          6,
          11,
          11,
          9,
          8,
          16,
          9,
          10,
          6,
          10,
          9,
          9,
          8,
          12,
          12,
          10,
          11,
          9,
          8,
          5,
          9,
          9,
          11,
          10,
          8,
          10,
          6,
          10,
          9,
          12,
          6,
          10,
          11,
          6,
          9,
          10,
          7,
          7,
          10,
          6,
          7,
          6,
          6,
          8,
          11,
          10,
          9,
          7,
          10,
          8,
          6,
          10,
          10,
          10,
          6,
          9,
          10,
          10,
          5,
          10,
          9,
          9,
          6,
          9,
          7,
          7,
          9,
          6,
          10,
          10,
          8,
          10,
          6.5,
          11,
          10,
          7,
          8,
          6,
          10,
          6,
          9,
          6,
          10,
          7,
          10,
          10,
          7,
          8,
          10,
          10,
          15,
          6,
          8,
          7,
          10,
          9,
          7,
          8,
          8,
          7,
          8,
          9,
          6,
          7,
          10,
          11,
          10,
          7,
          10,
          8,
          9,
          9,
          6,
          6,
          9,
          9,
          9,
          11,
          7,
          5,
          11,
          7,
          10
         ],
         "yaxis": "y"
        }
       ],
       "layout": {
        "legend": {
         "tracegroupgap": 0
        },
        "template": {
         "data": {
          "bar": [
           {
            "error_x": {
             "color": "#2a3f5f"
            },
            "error_y": {
             "color": "#2a3f5f"
            },
            "marker": {
             "line": {
              "color": "#E5ECF6",
              "width": 0.5
             },
             "pattern": {
              "fillmode": "overlay",
              "size": 10,
              "solidity": 0.2
             }
            },
            "type": "bar"
           }
          ],
          "barpolar": [
           {
            "marker": {
             "line": {
              "color": "#E5ECF6",
              "width": 0.5
             },
             "pattern": {
              "fillmode": "overlay",
              "size": 10,
              "solidity": 0.2
             }
            },
            "type": "barpolar"
           }
          ],
          "carpet": [
           {
            "aaxis": {
             "endlinecolor": "#2a3f5f",
             "gridcolor": "white",
             "linecolor": "white",
             "minorgridcolor": "white",
             "startlinecolor": "#2a3f5f"
            },
            "baxis": {
             "endlinecolor": "#2a3f5f",
             "gridcolor": "white",
             "linecolor": "white",
             "minorgridcolor": "white",
             "startlinecolor": "#2a3f5f"
            },
            "type": "carpet"
           }
          ],
          "choropleth": [
           {
            "colorbar": {
             "outlinewidth": 0,
             "ticks": ""
            },
            "type": "choropleth"
           }
          ],
          "contour": [
           {
            "colorbar": {
             "outlinewidth": 0,
             "ticks": ""
            },
            "colorscale": [
             [
              0,
              "#0d0887"
             ],
             [
              0.1111111111111111,
              "#46039f"
             ],
             [
              0.2222222222222222,
              "#7201a8"
             ],
             [
              0.3333333333333333,
              "#9c179e"
             ],
             [
              0.4444444444444444,
              "#bd3786"
             ],
             [
              0.5555555555555556,
              "#d8576b"
             ],
             [
              0.6666666666666666,
              "#ed7953"
             ],
             [
              0.7777777777777778,
              "#fb9f3a"
             ],
             [
              0.8888888888888888,
              "#fdca26"
             ],
             [
              1,
              "#f0f921"
             ]
            ],
            "type": "contour"
           }
          ],
          "contourcarpet": [
           {
            "colorbar": {
             "outlinewidth": 0,
             "ticks": ""
            },
            "type": "contourcarpet"
           }
          ],
          "heatmap": [
           {
            "colorbar": {
             "outlinewidth": 0,
             "ticks": ""
            },
            "colorscale": [
             [
              0,
              "#0d0887"
             ],
             [
              0.1111111111111111,
              "#46039f"
             ],
             [
              0.2222222222222222,
              "#7201a8"
             ],
             [
              0.3333333333333333,
              "#9c179e"
             ],
             [
              0.4444444444444444,
              "#bd3786"
             ],
             [
              0.5555555555555556,
              "#d8576b"
             ],
             [
              0.6666666666666666,
              "#ed7953"
             ],
             [
              0.7777777777777778,
              "#fb9f3a"
             ],
             [
              0.8888888888888888,
              "#fdca26"
             ],
             [
              1,
              "#f0f921"
             ]
            ],
            "type": "heatmap"
           }
          ],
          "heatmapgl": [
           {
            "colorbar": {
             "outlinewidth": 0,
             "ticks": ""
            },
            "colorscale": [
             [
              0,
              "#0d0887"
             ],
             [
              0.1111111111111111,
              "#46039f"
             ],
             [
              0.2222222222222222,
              "#7201a8"
             ],
             [
              0.3333333333333333,
              "#9c179e"
             ],
             [
              0.4444444444444444,
              "#bd3786"
             ],
             [
              0.5555555555555556,
              "#d8576b"
             ],
             [
              0.6666666666666666,
              "#ed7953"
             ],
             [
              0.7777777777777778,
              "#fb9f3a"
             ],
             [
              0.8888888888888888,
              "#fdca26"
             ],
             [
              1,
              "#f0f921"
             ]
            ],
            "type": "heatmapgl"
           }
          ],
          "histogram": [
           {
            "marker": {
             "pattern": {
              "fillmode": "overlay",
              "size": 10,
              "solidity": 0.2
             }
            },
            "type": "histogram"
           }
          ],
          "histogram2d": [
           {
            "colorbar": {
             "outlinewidth": 0,
             "ticks": ""
            },
            "colorscale": [
             [
              0,
              "#0d0887"
             ],
             [
              0.1111111111111111,
              "#46039f"
             ],
             [
              0.2222222222222222,
              "#7201a8"
             ],
             [
              0.3333333333333333,
              "#9c179e"
             ],
             [
              0.4444444444444444,
              "#bd3786"
             ],
             [
              0.5555555555555556,
              "#d8576b"
             ],
             [
              0.6666666666666666,
              "#ed7953"
             ],
             [
              0.7777777777777778,
              "#fb9f3a"
             ],
             [
              0.8888888888888888,
              "#fdca26"
             ],
             [
              1,
              "#f0f921"
             ]
            ],
            "type": "histogram2d"
           }
          ],
          "histogram2dcontour": [
           {
            "colorbar": {
             "outlinewidth": 0,
             "ticks": ""
            },
            "colorscale": [
             [
              0,
              "#0d0887"
             ],
             [
              0.1111111111111111,
              "#46039f"
             ],
             [
              0.2222222222222222,
              "#7201a8"
             ],
             [
              0.3333333333333333,
              "#9c179e"
             ],
             [
              0.4444444444444444,
              "#bd3786"
             ],
             [
              0.5555555555555556,
              "#d8576b"
             ],
             [
              0.6666666666666666,
              "#ed7953"
             ],
             [
              0.7777777777777778,
              "#fb9f3a"
             ],
             [
              0.8888888888888888,
              "#fdca26"
             ],
             [
              1,
              "#f0f921"
             ]
            ],
            "type": "histogram2dcontour"
           }
          ],
          "mesh3d": [
           {
            "colorbar": {
             "outlinewidth": 0,
             "ticks": ""
            },
            "type": "mesh3d"
           }
          ],
          "parcoords": [
           {
            "line": {
             "colorbar": {
              "outlinewidth": 0,
              "ticks": ""
             }
            },
            "type": "parcoords"
           }
          ],
          "pie": [
           {
            "automargin": true,
            "type": "pie"
           }
          ],
          "scatter": [
           {
            "fillpattern": {
             "fillmode": "overlay",
             "size": 10,
             "solidity": 0.2
            },
            "type": "scatter"
           }
          ],
          "scatter3d": [
           {
            "line": {
             "colorbar": {
              "outlinewidth": 0,
              "ticks": ""
             }
            },
            "marker": {
             "colorbar": {
              "outlinewidth": 0,
              "ticks": ""
             }
            },
            "type": "scatter3d"
           }
          ],
          "scattercarpet": [
           {
            "marker": {
             "colorbar": {
              "outlinewidth": 0,
              "ticks": ""
             }
            },
            "type": "scattercarpet"
           }
          ],
          "scattergeo": [
           {
            "marker": {
             "colorbar": {
              "outlinewidth": 0,
              "ticks": ""
             }
            },
            "type": "scattergeo"
           }
          ],
          "scattergl": [
           {
            "marker": {
             "colorbar": {
              "outlinewidth": 0,
              "ticks": ""
             }
            },
            "type": "scattergl"
           }
          ],
          "scattermapbox": [
           {
            "marker": {
             "colorbar": {
              "outlinewidth": 0,
              "ticks": ""
             }
            },
            "type": "scattermapbox"
           }
          ],
          "scatterpolar": [
           {
            "marker": {
             "colorbar": {
              "outlinewidth": 0,
              "ticks": ""
             }
            },
            "type": "scatterpolar"
           }
          ],
          "scatterpolargl": [
           {
            "marker": {
             "colorbar": {
              "outlinewidth": 0,
              "ticks": ""
             }
            },
            "type": "scatterpolargl"
           }
          ],
          "scatterternary": [
           {
            "marker": {
             "colorbar": {
              "outlinewidth": 0,
              "ticks": ""
             }
            },
            "type": "scatterternary"
           }
          ],
          "surface": [
           {
            "colorbar": {
             "outlinewidth": 0,
             "ticks": ""
            },
            "colorscale": [
             [
              0,
              "#0d0887"
             ],
             [
              0.1111111111111111,
              "#46039f"
             ],
             [
              0.2222222222222222,
              "#7201a8"
             ],
             [
              0.3333333333333333,
              "#9c179e"
             ],
             [
              0.4444444444444444,
              "#bd3786"
             ],
             [
              0.5555555555555556,
              "#d8576b"
             ],
             [
              0.6666666666666666,
              "#ed7953"
             ],
             [
              0.7777777777777778,
              "#fb9f3a"
             ],
             [
              0.8888888888888888,
              "#fdca26"
             ],
             [
              1,
              "#f0f921"
             ]
            ],
            "type": "surface"
           }
          ],
          "table": [
           {
            "cells": {
             "fill": {
              "color": "#EBF0F8"
             },
             "line": {
              "color": "white"
             }
            },
            "header": {
             "fill": {
              "color": "#C8D4E3"
             },
             "line": {
              "color": "white"
             }
            },
            "type": "table"
           }
          ]
         },
         "layout": {
          "annotationdefaults": {
           "arrowcolor": "#2a3f5f",
           "arrowhead": 0,
           "arrowwidth": 1
          },
          "autotypenumbers": "strict",
          "coloraxis": {
           "colorbar": {
            "outlinewidth": 0,
            "ticks": ""
           }
          },
          "colorscale": {
           "diverging": [
            [
             0,
             "#8e0152"
            ],
            [
             0.1,
             "#c51b7d"
            ],
            [
             0.2,
             "#de77ae"
            ],
            [
             0.3,
             "#f1b6da"
            ],
            [
             0.4,
             "#fde0ef"
            ],
            [
             0.5,
             "#f7f7f7"
            ],
            [
             0.6,
             "#e6f5d0"
            ],
            [
             0.7,
             "#b8e186"
            ],
            [
             0.8,
             "#7fbc41"
            ],
            [
             0.9,
             "#4d9221"
            ],
            [
             1,
             "#276419"
            ]
           ],
           "sequential": [
            [
             0,
             "#0d0887"
            ],
            [
             0.1111111111111111,
             "#46039f"
            ],
            [
             0.2222222222222222,
             "#7201a8"
            ],
            [
             0.3333333333333333,
             "#9c179e"
            ],
            [
             0.4444444444444444,
             "#bd3786"
            ],
            [
             0.5555555555555556,
             "#d8576b"
            ],
            [
             0.6666666666666666,
             "#ed7953"
            ],
            [
             0.7777777777777778,
             "#fb9f3a"
            ],
            [
             0.8888888888888888,
             "#fdca26"
            ],
            [
             1,
             "#f0f921"
            ]
           ],
           "sequentialminus": [
            [
             0,
             "#0d0887"
            ],
            [
             0.1111111111111111,
             "#46039f"
            ],
            [
             0.2222222222222222,
             "#7201a8"
            ],
            [
             0.3333333333333333,
             "#9c179e"
            ],
            [
             0.4444444444444444,
             "#bd3786"
            ],
            [
             0.5555555555555556,
             "#d8576b"
            ],
            [
             0.6666666666666666,
             "#ed7953"
            ],
            [
             0.7777777777777778,
             "#fb9f3a"
            ],
            [
             0.8888888888888888,
             "#fdca26"
            ],
            [
             1,
             "#f0f921"
            ]
           ]
          },
          "colorway": [
           "#636efa",
           "#EF553B",
           "#00cc96",
           "#ab63fa",
           "#FFA15A",
           "#19d3f3",
           "#FF6692",
           "#B6E880",
           "#FF97FF",
           "#FECB52"
          ],
          "font": {
           "color": "#2a3f5f"
          },
          "geo": {
           "bgcolor": "white",
           "lakecolor": "white",
           "landcolor": "#E5ECF6",
           "showlakes": true,
           "showland": true,
           "subunitcolor": "white"
          },
          "hoverlabel": {
           "align": "left"
          },
          "hovermode": "closest",
          "mapbox": {
           "style": "light"
          },
          "paper_bgcolor": "white",
          "plot_bgcolor": "#E5ECF6",
          "polar": {
           "angularaxis": {
            "gridcolor": "white",
            "linecolor": "white",
            "ticks": ""
           },
           "bgcolor": "#E5ECF6",
           "radialaxis": {
            "gridcolor": "white",
            "linecolor": "white",
            "ticks": ""
           }
          },
          "scene": {
           "xaxis": {
            "backgroundcolor": "#E5ECF6",
            "gridcolor": "white",
            "gridwidth": 2,
            "linecolor": "white",
            "showbackground": true,
            "ticks": "",
            "zerolinecolor": "white"
           },
           "yaxis": {
            "backgroundcolor": "#E5ECF6",
            "gridcolor": "white",
            "gridwidth": 2,
            "linecolor": "white",
            "showbackground": true,
            "ticks": "",
            "zerolinecolor": "white"
           },
           "zaxis": {
            "backgroundcolor": "#E5ECF6",
            "gridcolor": "white",
            "gridwidth": 2,
            "linecolor": "white",
            "showbackground": true,
            "ticks": "",
            "zerolinecolor": "white"
           }
          },
          "shapedefaults": {
           "line": {
            "color": "#2a3f5f"
           }
          },
          "ternary": {
           "aaxis": {
            "gridcolor": "white",
            "linecolor": "white",
            "ticks": ""
           },
           "baxis": {
            "gridcolor": "white",
            "linecolor": "white",
            "ticks": ""
           },
           "bgcolor": "#E5ECF6",
           "caxis": {
            "gridcolor": "white",
            "linecolor": "white",
            "ticks": ""
           }
          },
          "title": {
           "x": 0.05
          },
          "xaxis": {
           "automargin": true,
           "gridcolor": "white",
           "linecolor": "white",
           "ticks": "",
           "title": {
            "standoff": 15
           },
           "zerolinecolor": "white",
           "zerolinewidth": 2
          },
          "yaxis": {
           "automargin": true,
           "gridcolor": "white",
           "linecolor": "white",
           "ticks": "",
           "title": {
            "standoff": 15
           },
           "zerolinecolor": "white",
           "zerolinewidth": 2
          }
         }
        },
        "title": {
         "text": "Median TaxiOut per DepartureAirport"
        },
        "xaxis": {
         "anchor": "y",
         "domain": [
          0,
          1
         ],
         "title": {
          "text": "DepartureAirport"
         }
        },
        "yaxis": {
         "anchor": "x",
         "domain": [
          0,
          1
         ],
         "title": {
          "text": "median"
         }
        }
       }
      }
     },
     "metadata": {},
     "output_type": "display_data"
    }
   ],
   "source": [
    "taxiOut = df.groupby('DepartureAirport')['TaxiOut'].agg(['count','mean','median','std']).reset_index()\n",
    "px.scatter(taxiOut, x='DepartureAirport',y='median', title='Median TaxiOut per DepartureAirport')"
   ]
  },
  {
   "cell_type": "code",
   "execution_count": 14,
   "metadata": {},
   "outputs": [
    {
     "data": {
      "text/html": [
       "<div>\n",
       "<style scoped>\n",
       "    .dataframe tbody tr th:only-of-type {\n",
       "        vertical-align: middle;\n",
       "    }\n",
       "\n",
       "    .dataframe tbody tr th {\n",
       "        vertical-align: top;\n",
       "    }\n",
       "\n",
       "    .dataframe thead th {\n",
       "        text-align: right;\n",
       "    }\n",
       "</style>\n",
       "<table border=\"1\" class=\"dataframe\">\n",
       "  <thead>\n",
       "    <tr style=\"text-align: right;\">\n",
       "      <th></th>\n",
       "      <th>TaxiOut</th>\n",
       "      <th>thresholdUpTaxi</th>\n",
       "      <th>thresholdDownTaxi</th>\n",
       "    </tr>\n",
       "  </thead>\n",
       "  <tbody>\n",
       "    <tr>\n",
       "      <th>7</th>\n",
       "      <td>19.0</td>\n",
       "      <td>17.628796</td>\n",
       "      <td>2.569264</td>\n",
       "    </tr>\n",
       "    <tr>\n",
       "      <th>73</th>\n",
       "      <td>19.0</td>\n",
       "      <td>14.842126</td>\n",
       "      <td>4.219857</td>\n",
       "    </tr>\n",
       "    <tr>\n",
       "      <th>110</th>\n",
       "      <td>48.0</td>\n",
       "      <td>26.780572</td>\n",
       "      <td>-5.504608</td>\n",
       "    </tr>\n",
       "    <tr>\n",
       "      <th>146</th>\n",
       "      <td>25.0</td>\n",
       "      <td>22.074887</td>\n",
       "      <td>-3.575277</td>\n",
       "    </tr>\n",
       "    <tr>\n",
       "      <th>245</th>\n",
       "      <td>32.0</td>\n",
       "      <td>19.821282</td>\n",
       "      <td>3.097823</td>\n",
       "    </tr>\n",
       "    <tr>\n",
       "      <th>...</th>\n",
       "      <td>...</td>\n",
       "      <td>...</td>\n",
       "      <td>...</td>\n",
       "    </tr>\n",
       "    <tr>\n",
       "      <th>761719</th>\n",
       "      <td>15.0</td>\n",
       "      <td>14.470427</td>\n",
       "      <td>1.835159</td>\n",
       "    </tr>\n",
       "    <tr>\n",
       "      <th>761870</th>\n",
       "      <td>30.0</td>\n",
       "      <td>26.408146</td>\n",
       "      <td>-3.301113</td>\n",
       "    </tr>\n",
       "    <tr>\n",
       "      <th>761878</th>\n",
       "      <td>29.0</td>\n",
       "      <td>23.881982</td>\n",
       "      <td>0.628938</td>\n",
       "    </tr>\n",
       "    <tr>\n",
       "      <th>761958</th>\n",
       "      <td>26.0</td>\n",
       "      <td>21.053666</td>\n",
       "      <td>1.631471</td>\n",
       "    </tr>\n",
       "    <tr>\n",
       "      <th>762061</th>\n",
       "      <td>23.0</td>\n",
       "      <td>16.819914</td>\n",
       "      <td>3.275649</td>\n",
       "    </tr>\n",
       "  </tbody>\n",
       "</table>\n",
       "<p>16710 rows × 3 columns</p>\n",
       "</div>"
      ],
      "text/plain": [
       "        TaxiOut  thresholdUpTaxi  thresholdDownTaxi\n",
       "7          19.0        17.628796           2.569264\n",
       "73         19.0        14.842126           4.219857\n",
       "110        48.0        26.780572          -5.504608\n",
       "146        25.0        22.074887          -3.575277\n",
       "245        32.0        19.821282           3.097823\n",
       "...         ...              ...                ...\n",
       "761719     15.0        14.470427           1.835159\n",
       "761870     30.0        26.408146          -3.301113\n",
       "761878     29.0        23.881982           0.628938\n",
       "761958     26.0        21.053666           1.631471\n",
       "762061     23.0        16.819914           3.275649\n",
       "\n",
       "[16710 rows x 3 columns]"
      ]
     },
     "execution_count": 14,
     "metadata": {},
     "output_type": "execute_result"
    }
   ],
   "source": [
    "taxiOut['thresholdUpTaxi'] = taxiOut['mean'] + 2.5*taxiOut['std']\n",
    "taxiOut['thresholdDownTaxi'] = taxiOut['mean'] - 2.5*taxiOut['std']\n",
    "df = df.merge(taxiOut.loc[:,['DepartureAirport','thresholdUpTaxi','thresholdDownTaxi']], on='DepartureAirport', how='left')\n",
    "df.loc[(df.TaxiOut < df.thresholdDownTaxi) | (df.TaxiOut > df.thresholdUpTaxi),['TaxiOut','thresholdUpTaxi','thresholdDownTaxi']]"
   ]
  },
  {
   "cell_type": "code",
   "execution_count": 15,
   "metadata": {},
   "outputs": [],
   "source": [
    "# Drop TaxiOuts\n",
    "df = df.loc[(df.TaxiOut > df.thresholdDownTaxi) | (df.TaxiOut < df.thresholdUpTaxi),:]"
   ]
  },
  {
   "cell_type": "markdown",
   "metadata": {},
   "source": [
    "- TaxiIn -> calculated from (BlockTime - TaxiOut - FlightTime)\n",
    "- Depends on Arrival Airport\n",
    "- Same as for TaxiOut -> inputation of median for 2.5*std"
   ]
  },
  {
   "cell_type": "code",
   "execution_count": 16,
   "metadata": {},
   "outputs": [
    {
     "data": {
      "application/vnd.plotly.v1+json": {
       "config": {
        "plotlyServerURL": "https://plot.ly"
       },
       "data": [
        {
         "hovertemplate": "ArrivalAirport=%{x}<br>median=%{y}<extra></extra>",
         "legendgroup": "",
         "marker": {
          "color": "#636efa",
          "symbol": "circle"
         },
         "mode": "markers",
         "name": "",
         "orientation": "v",
         "showlegend": false,
         "type": "scatter",
         "x": [
          "AAL",
          "AAR",
          "ABZ",
          "ACE",
          "ADB",
          "AGA",
          "AGP",
          "AHO",
          "ALC",
          "AMM",
          "AMS",
          "AOI",
          "AQJ",
          "ARN",
          "ATH",
          "AYT",
          "BCN",
          "BDS",
          "BEG",
          "BER",
          "BES",
          "BEY",
          "BFS",
          "BGY",
          "BHD",
          "BHX",
          "BIO",
          "BIQ",
          "BJV",
          "BLL",
          "BLQ",
          "BNX",
          "BOD",
          "BOH",
          "BOJ",
          "BRE",
          "BRI",
          "BRQ",
          "BRS",
          "BRU",
          "BSL",
          "BTS",
          "BUD",
          "BVA",
          "BVE",
          "BZG",
          "BZR",
          "CAG",
          "CCF",
          "CDG",
          "CDT",
          "CFE",
          "CFU",
          "CGN",
          "CHQ",
          "CIA",
          "CIY",
          "CLJ",
          "CPH",
          "CRL",
          "CRV",
          "CTA",
          "CUF",
          "CWL",
          "DBV",
          "DLE",
          "DLM",
          "DNR",
          "DRS",
          "DTM",
          "DUB",
          "DUS",
          "EDI",
          "EFL",
          "EGC",
          "EIN",
          "EMA",
          "ERF",
          "ESU",
          "EVN",
          "EXT",
          "FAO",
          "FCO",
          "FDH",
          "FEZ",
          "FKB",
          "FMM",
          "FMO",
          "FNC",
          "FNI",
          "FRA",
          "FSC",
          "FUE",
          "GDN",
          "GLA",
          "GNB",
          "GOA",
          "GOT",
          "GRO",
          "HAJ",
          "HAM",
          "HAU",
          "HEL",
          "HER",
          "HHN",
          "HRK",
          "IBZ",
          "IEV",
          "INI",
          "JMK",
          "JSI",
          "JTR",
          "KBP",
          "KEF",
          "KGS",
          "KHE",
          "KIR",
          "KLU",
          "KLX",
          "KRK",
          "KSC",
          "KTW",
          "KUN",
          "KUT",
          "LBA",
          "LCA",
          "LCJ",
          "LDE",
          "LDY",
          "LEI",
          "LGW",
          "LIG",
          "LIL",
          "LIS",
          "LLA",
          "LPA",
          "LPL",
          "LPP",
          "LRH",
          "LTN",
          "LUX",
          "LUZ",
          "LWO",
          "LYS",
          "MAD",
          "MAH",
          "MAN",
          "MLA",
          "MME",
          "MMX",
          "MPL",
          "MRS",
          "MST",
          "MUC",
          "MXP",
          "NAP",
          "NCE",
          "NCL",
          "NDR",
          "NOC",
          "NQY",
          "NRN",
          "NTE",
          "NUE",
          "NYO",
          "ODS",
          "OMR",
          "OPO",
          "ORK",
          "OSL",
          "OSR",
          "OTP",
          "OUD",
          "OZZ",
          "PDL",
          "PDV",
          "PED",
          "PEG",
          "PFO",
          "PGF",
          "PIK",
          "PIS",
          "PLQ",
          "PMF",
          "PMI",
          "PMO",
          "POZ",
          "PRG",
          "PSA",
          "PSR",
          "PUY",
          "PVK",
          "RAK",
          "RBA",
          "RDZ",
          "REU",
          "RHO",
          "RIX",
          "RJK",
          "RMI",
          "RMU",
          "RVN",
          "RZE",
          "SBZ",
          "SCQ",
          "SCV",
          "SDR",
          "SEN",
          "SFT",
          "SKG",
          "SNN",
          "SOF",
          "SPC",
          "SPU",
          "STN",
          "STR",
          "SUF",
          "SVQ",
          "SXB",
          "SXF",
          "SZG",
          "SZY",
          "SZZ",
          "TBS",
          "TER",
          "TFN",
          "TFS",
          "TGD",
          "TIA",
          "TLL",
          "TLS",
          "TLV",
          "TMP",
          "TNG",
          "TPS",
          "TRF",
          "TRN",
          "TRS",
          "TSF",
          "TSR",
          "TTU",
          "TUF",
          "TXL",
          "VAR",
          "VBY",
          "VCE",
          "VGO",
          "VIE",
          "VIT",
          "VLC",
          "VLL",
          "VNO",
          "VRN",
          "VST",
          "VXO",
          "WAW",
          "WMI",
          "WRO",
          "XCR",
          "XRY",
          "ZAD",
          "ZAG",
          "ZAZ",
          "ZTH"
         ],
         "xaxis": "x",
         "y": [
          5,
          5,
          4,
          4,
          4,
          4,
          4,
          4,
          4,
          5,
          10,
          3,
          4,
          6,
          5,
          7,
          4,
          4,
          4,
          5,
          3,
          5,
          4,
          3,
          4,
          5,
          5,
          3,
          5,
          4,
          4,
          3,
          4,
          5,
          4,
          4,
          4,
          4,
          4,
          4,
          4,
          4,
          4,
          4,
          4,
          5,
          5,
          4,
          5,
          6,
          7,
          3,
          3,
          5,
          4,
          5,
          4,
          5,
          6,
          5,
          4,
          5,
          4,
          4,
          4,
          4,
          5,
          4,
          4,
          7,
          6,
          5,
          5,
          5,
          4,
          6,
          4,
          6,
          5,
          3,
          4,
          4,
          8,
          7,
          3,
          4,
          4,
          6,
          4,
          3,
          8,
          4,
          4,
          3,
          4,
          3,
          5,
          5,
          4,
          7,
          5,
          3,
          7,
          4,
          6,
          6,
          4,
          8,
          4,
          4,
          3,
          3,
          5,
          5,
          4,
          6,
          3,
          6,
          6,
          6,
          4,
          4,
          4,
          6,
          3,
          4,
          5,
          5,
          4,
          5,
          7,
          5,
          4,
          6,
          4,
          4,
          4,
          3,
          5,
          4,
          5,
          4,
          4,
          5,
          11,
          4,
          5,
          3,
          4,
          5,
          4,
          5,
          4,
          6,
          5,
          4,
          5,
          4,
          4,
          5,
          4,
          5,
          4,
          4,
          5,
          5,
          4,
          4,
          4,
          5,
          4,
          5,
          6,
          4,
          3,
          5,
          4,
          5,
          4,
          5,
          3,
          5,
          5,
          3,
          5,
          4,
          4,
          5,
          4,
          4,
          4,
          4,
          3,
          5,
          5,
          3,
          4,
          4,
          4,
          4,
          4,
          7,
          4,
          4,
          5,
          5,
          4,
          4,
          3,
          4,
          4,
          5,
          6,
          4,
          6,
          6,
          4,
          4,
          4,
          6,
          4,
          3,
          3,
          6,
          5,
          4,
          5,
          3,
          5,
          5,
          5,
          6,
          4,
          5,
          4,
          4,
          5,
          3,
          3,
          4,
          3,
          4,
          5,
          5,
          3,
          5,
          3,
          7,
          4,
          4,
          5,
          5,
          4,
          4,
          4,
          4,
          5,
          4,
          5,
          4,
          4,
          6,
          6,
          4
         ],
         "yaxis": "y"
        }
       ],
       "layout": {
        "legend": {
         "tracegroupgap": 0
        },
        "template": {
         "data": {
          "bar": [
           {
            "error_x": {
             "color": "#2a3f5f"
            },
            "error_y": {
             "color": "#2a3f5f"
            },
            "marker": {
             "line": {
              "color": "#E5ECF6",
              "width": 0.5
             },
             "pattern": {
              "fillmode": "overlay",
              "size": 10,
              "solidity": 0.2
             }
            },
            "type": "bar"
           }
          ],
          "barpolar": [
           {
            "marker": {
             "line": {
              "color": "#E5ECF6",
              "width": 0.5
             },
             "pattern": {
              "fillmode": "overlay",
              "size": 10,
              "solidity": 0.2
             }
            },
            "type": "barpolar"
           }
          ],
          "carpet": [
           {
            "aaxis": {
             "endlinecolor": "#2a3f5f",
             "gridcolor": "white",
             "linecolor": "white",
             "minorgridcolor": "white",
             "startlinecolor": "#2a3f5f"
            },
            "baxis": {
             "endlinecolor": "#2a3f5f",
             "gridcolor": "white",
             "linecolor": "white",
             "minorgridcolor": "white",
             "startlinecolor": "#2a3f5f"
            },
            "type": "carpet"
           }
          ],
          "choropleth": [
           {
            "colorbar": {
             "outlinewidth": 0,
             "ticks": ""
            },
            "type": "choropleth"
           }
          ],
          "contour": [
           {
            "colorbar": {
             "outlinewidth": 0,
             "ticks": ""
            },
            "colorscale": [
             [
              0,
              "#0d0887"
             ],
             [
              0.1111111111111111,
              "#46039f"
             ],
             [
              0.2222222222222222,
              "#7201a8"
             ],
             [
              0.3333333333333333,
              "#9c179e"
             ],
             [
              0.4444444444444444,
              "#bd3786"
             ],
             [
              0.5555555555555556,
              "#d8576b"
             ],
             [
              0.6666666666666666,
              "#ed7953"
             ],
             [
              0.7777777777777778,
              "#fb9f3a"
             ],
             [
              0.8888888888888888,
              "#fdca26"
             ],
             [
              1,
              "#f0f921"
             ]
            ],
            "type": "contour"
           }
          ],
          "contourcarpet": [
           {
            "colorbar": {
             "outlinewidth": 0,
             "ticks": ""
            },
            "type": "contourcarpet"
           }
          ],
          "heatmap": [
           {
            "colorbar": {
             "outlinewidth": 0,
             "ticks": ""
            },
            "colorscale": [
             [
              0,
              "#0d0887"
             ],
             [
              0.1111111111111111,
              "#46039f"
             ],
             [
              0.2222222222222222,
              "#7201a8"
             ],
             [
              0.3333333333333333,
              "#9c179e"
             ],
             [
              0.4444444444444444,
              "#bd3786"
             ],
             [
              0.5555555555555556,
              "#d8576b"
             ],
             [
              0.6666666666666666,
              "#ed7953"
             ],
             [
              0.7777777777777778,
              "#fb9f3a"
             ],
             [
              0.8888888888888888,
              "#fdca26"
             ],
             [
              1,
              "#f0f921"
             ]
            ],
            "type": "heatmap"
           }
          ],
          "heatmapgl": [
           {
            "colorbar": {
             "outlinewidth": 0,
             "ticks": ""
            },
            "colorscale": [
             [
              0,
              "#0d0887"
             ],
             [
              0.1111111111111111,
              "#46039f"
             ],
             [
              0.2222222222222222,
              "#7201a8"
             ],
             [
              0.3333333333333333,
              "#9c179e"
             ],
             [
              0.4444444444444444,
              "#bd3786"
             ],
             [
              0.5555555555555556,
              "#d8576b"
             ],
             [
              0.6666666666666666,
              "#ed7953"
             ],
             [
              0.7777777777777778,
              "#fb9f3a"
             ],
             [
              0.8888888888888888,
              "#fdca26"
             ],
             [
              1,
              "#f0f921"
             ]
            ],
            "type": "heatmapgl"
           }
          ],
          "histogram": [
           {
            "marker": {
             "pattern": {
              "fillmode": "overlay",
              "size": 10,
              "solidity": 0.2
             }
            },
            "type": "histogram"
           }
          ],
          "histogram2d": [
           {
            "colorbar": {
             "outlinewidth": 0,
             "ticks": ""
            },
            "colorscale": [
             [
              0,
              "#0d0887"
             ],
             [
              0.1111111111111111,
              "#46039f"
             ],
             [
              0.2222222222222222,
              "#7201a8"
             ],
             [
              0.3333333333333333,
              "#9c179e"
             ],
             [
              0.4444444444444444,
              "#bd3786"
             ],
             [
              0.5555555555555556,
              "#d8576b"
             ],
             [
              0.6666666666666666,
              "#ed7953"
             ],
             [
              0.7777777777777778,
              "#fb9f3a"
             ],
             [
              0.8888888888888888,
              "#fdca26"
             ],
             [
              1,
              "#f0f921"
             ]
            ],
            "type": "histogram2d"
           }
          ],
          "histogram2dcontour": [
           {
            "colorbar": {
             "outlinewidth": 0,
             "ticks": ""
            },
            "colorscale": [
             [
              0,
              "#0d0887"
             ],
             [
              0.1111111111111111,
              "#46039f"
             ],
             [
              0.2222222222222222,
              "#7201a8"
             ],
             [
              0.3333333333333333,
              "#9c179e"
             ],
             [
              0.4444444444444444,
              "#bd3786"
             ],
             [
              0.5555555555555556,
              "#d8576b"
             ],
             [
              0.6666666666666666,
              "#ed7953"
             ],
             [
              0.7777777777777778,
              "#fb9f3a"
             ],
             [
              0.8888888888888888,
              "#fdca26"
             ],
             [
              1,
              "#f0f921"
             ]
            ],
            "type": "histogram2dcontour"
           }
          ],
          "mesh3d": [
           {
            "colorbar": {
             "outlinewidth": 0,
             "ticks": ""
            },
            "type": "mesh3d"
           }
          ],
          "parcoords": [
           {
            "line": {
             "colorbar": {
              "outlinewidth": 0,
              "ticks": ""
             }
            },
            "type": "parcoords"
           }
          ],
          "pie": [
           {
            "automargin": true,
            "type": "pie"
           }
          ],
          "scatter": [
           {
            "fillpattern": {
             "fillmode": "overlay",
             "size": 10,
             "solidity": 0.2
            },
            "type": "scatter"
           }
          ],
          "scatter3d": [
           {
            "line": {
             "colorbar": {
              "outlinewidth": 0,
              "ticks": ""
             }
            },
            "marker": {
             "colorbar": {
              "outlinewidth": 0,
              "ticks": ""
             }
            },
            "type": "scatter3d"
           }
          ],
          "scattercarpet": [
           {
            "marker": {
             "colorbar": {
              "outlinewidth": 0,
              "ticks": ""
             }
            },
            "type": "scattercarpet"
           }
          ],
          "scattergeo": [
           {
            "marker": {
             "colorbar": {
              "outlinewidth": 0,
              "ticks": ""
             }
            },
            "type": "scattergeo"
           }
          ],
          "scattergl": [
           {
            "marker": {
             "colorbar": {
              "outlinewidth": 0,
              "ticks": ""
             }
            },
            "type": "scattergl"
           }
          ],
          "scattermapbox": [
           {
            "marker": {
             "colorbar": {
              "outlinewidth": 0,
              "ticks": ""
             }
            },
            "type": "scattermapbox"
           }
          ],
          "scatterpolar": [
           {
            "marker": {
             "colorbar": {
              "outlinewidth": 0,
              "ticks": ""
             }
            },
            "type": "scatterpolar"
           }
          ],
          "scatterpolargl": [
           {
            "marker": {
             "colorbar": {
              "outlinewidth": 0,
              "ticks": ""
             }
            },
            "type": "scatterpolargl"
           }
          ],
          "scatterternary": [
           {
            "marker": {
             "colorbar": {
              "outlinewidth": 0,
              "ticks": ""
             }
            },
            "type": "scatterternary"
           }
          ],
          "surface": [
           {
            "colorbar": {
             "outlinewidth": 0,
             "ticks": ""
            },
            "colorscale": [
             [
              0,
              "#0d0887"
             ],
             [
              0.1111111111111111,
              "#46039f"
             ],
             [
              0.2222222222222222,
              "#7201a8"
             ],
             [
              0.3333333333333333,
              "#9c179e"
             ],
             [
              0.4444444444444444,
              "#bd3786"
             ],
             [
              0.5555555555555556,
              "#d8576b"
             ],
             [
              0.6666666666666666,
              "#ed7953"
             ],
             [
              0.7777777777777778,
              "#fb9f3a"
             ],
             [
              0.8888888888888888,
              "#fdca26"
             ],
             [
              1,
              "#f0f921"
             ]
            ],
            "type": "surface"
           }
          ],
          "table": [
           {
            "cells": {
             "fill": {
              "color": "#EBF0F8"
             },
             "line": {
              "color": "white"
             }
            },
            "header": {
             "fill": {
              "color": "#C8D4E3"
             },
             "line": {
              "color": "white"
             }
            },
            "type": "table"
           }
          ]
         },
         "layout": {
          "annotationdefaults": {
           "arrowcolor": "#2a3f5f",
           "arrowhead": 0,
           "arrowwidth": 1
          },
          "autotypenumbers": "strict",
          "coloraxis": {
           "colorbar": {
            "outlinewidth": 0,
            "ticks": ""
           }
          },
          "colorscale": {
           "diverging": [
            [
             0,
             "#8e0152"
            ],
            [
             0.1,
             "#c51b7d"
            ],
            [
             0.2,
             "#de77ae"
            ],
            [
             0.3,
             "#f1b6da"
            ],
            [
             0.4,
             "#fde0ef"
            ],
            [
             0.5,
             "#f7f7f7"
            ],
            [
             0.6,
             "#e6f5d0"
            ],
            [
             0.7,
             "#b8e186"
            ],
            [
             0.8,
             "#7fbc41"
            ],
            [
             0.9,
             "#4d9221"
            ],
            [
             1,
             "#276419"
            ]
           ],
           "sequential": [
            [
             0,
             "#0d0887"
            ],
            [
             0.1111111111111111,
             "#46039f"
            ],
            [
             0.2222222222222222,
             "#7201a8"
            ],
            [
             0.3333333333333333,
             "#9c179e"
            ],
            [
             0.4444444444444444,
             "#bd3786"
            ],
            [
             0.5555555555555556,
             "#d8576b"
            ],
            [
             0.6666666666666666,
             "#ed7953"
            ],
            [
             0.7777777777777778,
             "#fb9f3a"
            ],
            [
             0.8888888888888888,
             "#fdca26"
            ],
            [
             1,
             "#f0f921"
            ]
           ],
           "sequentialminus": [
            [
             0,
             "#0d0887"
            ],
            [
             0.1111111111111111,
             "#46039f"
            ],
            [
             0.2222222222222222,
             "#7201a8"
            ],
            [
             0.3333333333333333,
             "#9c179e"
            ],
            [
             0.4444444444444444,
             "#bd3786"
            ],
            [
             0.5555555555555556,
             "#d8576b"
            ],
            [
             0.6666666666666666,
             "#ed7953"
            ],
            [
             0.7777777777777778,
             "#fb9f3a"
            ],
            [
             0.8888888888888888,
             "#fdca26"
            ],
            [
             1,
             "#f0f921"
            ]
           ]
          },
          "colorway": [
           "#636efa",
           "#EF553B",
           "#00cc96",
           "#ab63fa",
           "#FFA15A",
           "#19d3f3",
           "#FF6692",
           "#B6E880",
           "#FF97FF",
           "#FECB52"
          ],
          "font": {
           "color": "#2a3f5f"
          },
          "geo": {
           "bgcolor": "white",
           "lakecolor": "white",
           "landcolor": "#E5ECF6",
           "showlakes": true,
           "showland": true,
           "subunitcolor": "white"
          },
          "hoverlabel": {
           "align": "left"
          },
          "hovermode": "closest",
          "mapbox": {
           "style": "light"
          },
          "paper_bgcolor": "white",
          "plot_bgcolor": "#E5ECF6",
          "polar": {
           "angularaxis": {
            "gridcolor": "white",
            "linecolor": "white",
            "ticks": ""
           },
           "bgcolor": "#E5ECF6",
           "radialaxis": {
            "gridcolor": "white",
            "linecolor": "white",
            "ticks": ""
           }
          },
          "scene": {
           "xaxis": {
            "backgroundcolor": "#E5ECF6",
            "gridcolor": "white",
            "gridwidth": 2,
            "linecolor": "white",
            "showbackground": true,
            "ticks": "",
            "zerolinecolor": "white"
           },
           "yaxis": {
            "backgroundcolor": "#E5ECF6",
            "gridcolor": "white",
            "gridwidth": 2,
            "linecolor": "white",
            "showbackground": true,
            "ticks": "",
            "zerolinecolor": "white"
           },
           "zaxis": {
            "backgroundcolor": "#E5ECF6",
            "gridcolor": "white",
            "gridwidth": 2,
            "linecolor": "white",
            "showbackground": true,
            "ticks": "",
            "zerolinecolor": "white"
           }
          },
          "shapedefaults": {
           "line": {
            "color": "#2a3f5f"
           }
          },
          "ternary": {
           "aaxis": {
            "gridcolor": "white",
            "linecolor": "white",
            "ticks": ""
           },
           "baxis": {
            "gridcolor": "white",
            "linecolor": "white",
            "ticks": ""
           },
           "bgcolor": "#E5ECF6",
           "caxis": {
            "gridcolor": "white",
            "linecolor": "white",
            "ticks": ""
           }
          },
          "title": {
           "x": 0.05
          },
          "xaxis": {
           "automargin": true,
           "gridcolor": "white",
           "linecolor": "white",
           "ticks": "",
           "title": {
            "standoff": 15
           },
           "zerolinecolor": "white",
           "zerolinewidth": 2
          },
          "yaxis": {
           "automargin": true,
           "gridcolor": "white",
           "linecolor": "white",
           "ticks": "",
           "title": {
            "standoff": 15
           },
           "zerolinecolor": "white",
           "zerolinewidth": 2
          }
         }
        },
        "title": {
         "text": "Median TaxiIn per ArrivalAirport"
        },
        "xaxis": {
         "anchor": "y",
         "domain": [
          0,
          1
         ],
         "title": {
          "text": "ArrivalAirport"
         }
        },
        "yaxis": {
         "anchor": "x",
         "domain": [
          0,
          1
         ],
         "title": {
          "text": "median"
         }
        }
       }
      }
     },
     "metadata": {},
     "output_type": "display_data"
    }
   ],
   "source": [
    "df['TaxiIn'] = df['BlockTime'] - df['TaxiOut'] - df['FlightTime']\n",
    "taxiIn = df.groupby('ArrivalAirport')['TaxiIn'].agg(['count','mean','median','std']).reset_index()\n",
    "px.scatter(taxiIn, x='ArrivalAirport',y='median', title='Median TaxiIn per ArrivalAirport')"
   ]
  },
  {
   "cell_type": "code",
   "execution_count": 17,
   "metadata": {},
   "outputs": [
    {
     "data": {
      "text/html": [
       "<div>\n",
       "<style scoped>\n",
       "    .dataframe tbody tr th:only-of-type {\n",
       "        vertical-align: middle;\n",
       "    }\n",
       "\n",
       "    .dataframe tbody tr th {\n",
       "        vertical-align: top;\n",
       "    }\n",
       "\n",
       "    .dataframe thead th {\n",
       "        text-align: right;\n",
       "    }\n",
       "</style>\n",
       "<table border=\"1\" class=\"dataframe\">\n",
       "  <thead>\n",
       "    <tr style=\"text-align: right;\">\n",
       "      <th></th>\n",
       "      <th>TaxiIn</th>\n",
       "      <th>thresholdUpTaxiIn</th>\n",
       "      <th>thresholdDownTaxiIn</th>\n",
       "    </tr>\n",
       "  </thead>\n",
       "  <tbody>\n",
       "    <tr>\n",
       "      <th>217</th>\n",
       "      <td>20.0</td>\n",
       "      <td>11.690191</td>\n",
       "      <td>-1.295180</td>\n",
       "    </tr>\n",
       "    <tr>\n",
       "      <th>540</th>\n",
       "      <td>12.0</td>\n",
       "      <td>10.525677</td>\n",
       "      <td>-0.598480</td>\n",
       "    </tr>\n",
       "    <tr>\n",
       "      <th>551</th>\n",
       "      <td>12.0</td>\n",
       "      <td>9.392175</td>\n",
       "      <td>-0.240757</td>\n",
       "    </tr>\n",
       "    <tr>\n",
       "      <th>555</th>\n",
       "      <td>65.0</td>\n",
       "      <td>12.263020</td>\n",
       "      <td>-1.921264</td>\n",
       "    </tr>\n",
       "    <tr>\n",
       "      <th>596</th>\n",
       "      <td>15.0</td>\n",
       "      <td>8.782033</td>\n",
       "      <td>-0.013173</td>\n",
       "    </tr>\n",
       "    <tr>\n",
       "      <th>...</th>\n",
       "      <td>...</td>\n",
       "      <td>...</td>\n",
       "      <td>...</td>\n",
       "    </tr>\n",
       "    <tr>\n",
       "      <th>761498</th>\n",
       "      <td>63.0</td>\n",
       "      <td>8.584560</td>\n",
       "      <td>-0.662308</td>\n",
       "    </tr>\n",
       "    <tr>\n",
       "      <th>761590</th>\n",
       "      <td>7.0</td>\n",
       "      <td>6.546061</td>\n",
       "      <td>-0.071292</td>\n",
       "    </tr>\n",
       "    <tr>\n",
       "      <th>761708</th>\n",
       "      <td>14.0</td>\n",
       "      <td>9.784221</td>\n",
       "      <td>-1.009078</td>\n",
       "    </tr>\n",
       "    <tr>\n",
       "      <th>761832</th>\n",
       "      <td>13.0</td>\n",
       "      <td>11.398688</td>\n",
       "      <td>-1.834070</td>\n",
       "    </tr>\n",
       "    <tr>\n",
       "      <th>761858</th>\n",
       "      <td>13.0</td>\n",
       "      <td>9.816181</td>\n",
       "      <td>-0.337364</td>\n",
       "    </tr>\n",
       "  </tbody>\n",
       "</table>\n",
       "<p>7306 rows × 3 columns</p>\n",
       "</div>"
      ],
      "text/plain": [
       "        TaxiIn  thresholdUpTaxiIn  thresholdDownTaxiIn\n",
       "217       20.0          11.690191            -1.295180\n",
       "540       12.0          10.525677            -0.598480\n",
       "551       12.0           9.392175            -0.240757\n",
       "555       65.0          12.263020            -1.921264\n",
       "596       15.0           8.782033            -0.013173\n",
       "...        ...                ...                  ...\n",
       "761498    63.0           8.584560            -0.662308\n",
       "761590     7.0           6.546061            -0.071292\n",
       "761708    14.0           9.784221            -1.009078\n",
       "761832    13.0          11.398688            -1.834070\n",
       "761858    13.0           9.816181            -0.337364\n",
       "\n",
       "[7306 rows x 3 columns]"
      ]
     },
     "execution_count": 17,
     "metadata": {},
     "output_type": "execute_result"
    }
   ],
   "source": [
    "taxiIn['thresholdUpTaxiIn'] = taxiIn['mean'] + 2.5*taxiIn['std']\n",
    "taxiIn['thresholdDownTaxiIn'] = taxiIn['mean'] - 2.5*taxiIn['std']\n",
    "df = df.merge(taxiIn.loc[:,['ArrivalAirport','thresholdUpTaxiIn','thresholdDownTaxiIn']], on='ArrivalAirport', how='left')\n",
    "df.loc[(df.TaxiIn < df.thresholdDownTaxiIn) | (df.TaxiIn > df.thresholdUpTaxiIn),['TaxiIn','thresholdUpTaxiIn','thresholdDownTaxiIn']]"
   ]
  },
  {
   "cell_type": "code",
   "execution_count": 18,
   "metadata": {},
   "outputs": [],
   "source": [
    "# Drop TaxiIns\n",
    "df = df.loc[(df.TaxiIn > df.thresholdDownTaxiIn) | (df.TaxiIn < df.thresholdUpTaxiIn),:]"
   ]
  },
  {
   "cell_type": "markdown",
   "metadata": {},
   "source": [
    "### Fuel"
   ]
  },
  {
   "cell_type": "markdown",
   "metadata": {},
   "source": [
    "- There are `Burnoff` <= 0 with positive `FlightTime`. 12 rows that are clearly wrong imputations. Remove them."
   ]
  },
  {
   "cell_type": "code",
   "execution_count": 19,
   "metadata": {},
   "outputs": [
    {
     "data": {
      "text/html": [
       "<div>\n",
       "<style scoped>\n",
       "    .dataframe tbody tr th:only-of-type {\n",
       "        vertical-align: middle;\n",
       "    }\n",
       "\n",
       "    .dataframe tbody tr th {\n",
       "        vertical-align: top;\n",
       "    }\n",
       "\n",
       "    .dataframe thead th {\n",
       "        text-align: right;\n",
       "    }\n",
       "</style>\n",
       "<table border=\"1\" class=\"dataframe\">\n",
       "  <thead>\n",
       "    <tr style=\"text-align: right;\">\n",
       "      <th></th>\n",
       "      <th>Burnoff</th>\n",
       "      <th>FlightTime</th>\n",
       "      <th>BlockTime</th>\n",
       "    </tr>\n",
       "  </thead>\n",
       "  <tbody>\n",
       "    <tr>\n",
       "      <th>73792</th>\n",
       "      <td>-3970.0</td>\n",
       "      <td>107.0</td>\n",
       "      <td>125.0</td>\n",
       "    </tr>\n",
       "    <tr>\n",
       "      <th>167273</th>\n",
       "      <td>-2056.0</td>\n",
       "      <td>50.0</td>\n",
       "      <td>67.0</td>\n",
       "    </tr>\n",
       "    <tr>\n",
       "      <th>176025</th>\n",
       "      <td>-3096.0</td>\n",
       "      <td>23.0</td>\n",
       "      <td>37.0</td>\n",
       "    </tr>\n",
       "    <tr>\n",
       "      <th>189322</th>\n",
       "      <td>0.0</td>\n",
       "      <td>46.0</td>\n",
       "      <td>61.0</td>\n",
       "    </tr>\n",
       "    <tr>\n",
       "      <th>391446</th>\n",
       "      <td>-2442.0</td>\n",
       "      <td>41.0</td>\n",
       "      <td>57.0</td>\n",
       "    </tr>\n",
       "    <tr>\n",
       "      <th>439514</th>\n",
       "      <td>-795.0</td>\n",
       "      <td>45.0</td>\n",
       "      <td>60.0</td>\n",
       "    </tr>\n",
       "    <tr>\n",
       "      <th>495513</th>\n",
       "      <td>-828.0</td>\n",
       "      <td>36.0</td>\n",
       "      <td>52.0</td>\n",
       "    </tr>\n",
       "    <tr>\n",
       "      <th>558209</th>\n",
       "      <td>-2770.0</td>\n",
       "      <td>96.0</td>\n",
       "      <td>115.0</td>\n",
       "    </tr>\n",
       "    <tr>\n",
       "      <th>572439</th>\n",
       "      <td>-1577.0</td>\n",
       "      <td>45.0</td>\n",
       "      <td>54.0</td>\n",
       "    </tr>\n",
       "    <tr>\n",
       "      <th>726464</th>\n",
       "      <td>-569.0</td>\n",
       "      <td>76.0</td>\n",
       "      <td>93.0</td>\n",
       "    </tr>\n",
       "  </tbody>\n",
       "</table>\n",
       "</div>"
      ],
      "text/plain": [
       "        Burnoff  FlightTime  BlockTime\n",
       "73792   -3970.0       107.0      125.0\n",
       "167273  -2056.0        50.0       67.0\n",
       "176025  -3096.0        23.0       37.0\n",
       "189322      0.0        46.0       61.0\n",
       "391446  -2442.0        41.0       57.0\n",
       "439514   -795.0        45.0       60.0\n",
       "495513   -828.0        36.0       52.0\n",
       "558209  -2770.0        96.0      115.0\n",
       "572439  -1577.0        45.0       54.0\n",
       "726464   -569.0        76.0       93.0"
      ]
     },
     "execution_count": 19,
     "metadata": {},
     "output_type": "execute_result"
    }
   ],
   "source": [
    "df.loc[df.Burnoff <= 0,['Burnoff','FlightTime', 'BlockTime']]"
   ]
  },
  {
   "cell_type": "code",
   "execution_count": 20,
   "metadata": {},
   "outputs": [],
   "source": [
    "# Drop\n",
    "df = df.loc[df.Burnoff > 0,:]"
   ]
  },
  {
   "cell_type": "markdown",
   "metadata": {},
   "source": [
    "### People and Bags"
   ]
  },
  {
   "cell_type": "markdown",
   "metadata": {},
   "source": [
    "- For those flights that have ( `Adults` + `Children` ) > `AircraftCapacity` we \"fix\" the number of adults and children down to the capacity.\n",
    "- First we substract children, then adults"
   ]
  },
  {
   "cell_type": "code",
   "execution_count": 21,
   "metadata": {},
   "outputs": [],
   "source": [
    "# Reduce Children then Adults until match AircraftCapacity\n",
    "def balancePassangers(capacity, adults, children):\n",
    "    total = adults + children\n",
    "    if total > capacity:\n",
    "        if total - children <= capacity:\n",
    "            children = children - (total-capacity)\n",
    "            return adults, children\n",
    "        elif total - children > 180:\n",
    "            total = total - children\n",
    "            children = 0\n",
    "            adults = adults - (total-capacity) \n",
    "            return adults, children\n",
    "    else: return adults, children\n",
    "\n",
    "df[['Adults','Children']] = df.apply(lambda x: balancePassangers(x.AircraftCapacity, x.Adults, x.Children), axis=1, result_type='expand')"
   ]
  },
  {
   "cell_type": "markdown",
   "metadata": {},
   "source": [
    "- Flights with `Adults` == 0\n",
    "- All \"Positioning Flights\" (46) should have Adults, Children, Infants == 0. We fix 8 of them."
   ]
  },
  {
   "cell_type": "code",
   "execution_count": 22,
   "metadata": {},
   "outputs": [],
   "source": [
    "df.loc[df.ServiceDescription == 'Positioning Flight', ['Adults']] = 0\n",
    "df.loc[df.ServiceDescription == 'Positioning Flight', ['Children']] = 0\n",
    "df.loc[df.ServiceDescription == 'Positioning Flight', ['Infants']] = 0"
   ]
  },
  {
   "cell_type": "markdown",
   "metadata": {},
   "source": [
    "- There are 903 \"Scheduled Flights\" with 0 Adults. \n",
    "- Since we won't be able to use weight variables in the test set, we do the following:\n",
    "    - Those flights with Bags < 10 -> Classified as Positioning Flight. They have low TeledyneRampWeight, the ServiceDescription was probably wrongly inputed.\n",
    "    - The rest of flights will be inputed with the median passangers for that route. Using a ratio Bags/Passangers to inpute values might be dangerours given that the Bags might also be wrong..."
   ]
  },
  {
   "cell_type": "code",
   "execution_count": 23,
   "metadata": {},
   "outputs": [],
   "source": [
    "df.loc[(df.Adults == 0) & (df.Bags < 10) & (df.ServiceDescription == 'Scheduled Flight'), 'ServiceDescription'] = 'Positioning Flight'\n",
    "meanAdultsRoute = df.groupby('ScheduledRoute')['Adults'].median()\n",
    "df.loc[(df.Adults == 0) & (df.ServiceDescription == 'Scheduled Flight'), ['Adults']] = df['ScheduledRoute'].map(meanAdultsRoute)"
   ]
  },
  {
   "cell_type": "markdown",
   "metadata": {},
   "source": [
    "- The same strategy is applied to \"CharterFlights\"\n",
    "- \"Charter Flight (Tour Operator)\" is classified as \"Charter Flight\" - we didn't find any major difference between the two."
   ]
  },
  {
   "cell_type": "code",
   "execution_count": 24,
   "metadata": {},
   "outputs": [],
   "source": [
    "df.loc[df.ServiceDescription == 'Charter Flight (Tour Operator)', 'ServiceDescription'] = 'Charter Flight'\n",
    "df.loc[(df.Adults == 0) & (df.Bags < 10) & (df.ServiceDescription == 'Charter Flight'), 'ServiceDescription'] = 'Positioning Flight'\n",
    "df.loc[(df.Adults == 0) & (df.ServiceDescription == 'Charter Flight'), ['Adults']] = df['ScheduledRoute'].map(meanAdultsRoute)"
   ]
  },
  {
   "cell_type": "markdown",
   "metadata": {},
   "source": [
    "- Bags outlier at 1170"
   ]
  },
  {
   "cell_type": "code",
   "execution_count": 25,
   "metadata": {},
   "outputs": [],
   "source": [
    "df  = df.loc[df.Bags < 1000,]"
   ]
  },
  {
   "cell_type": "markdown",
   "metadata": {},
   "source": [
    "### CARGO - FREIGHT\n",
    "- Huge Outliers for Freights.\n",
    "- After exploring the data, we considered everything above 10000 as an outlier.\n",
    "- All flights with `Freights` > 1000 (16) are dropped"
   ]
  },
  {
   "cell_type": "code",
   "execution_count": 26,
   "metadata": {},
   "outputs": [],
   "source": [
    "df = df.loc[df.Freight <= 10000,:]"
   ]
  },
  {
   "cell_type": "markdown",
   "metadata": {},
   "source": [
    "### RAMP WEIGHT\n",
    "\n",
    "- From regulation for each plane, we drop all rows than have `TeledyneRampWeight` higher than allowed\n",
    "- Also, we set Min TeledyneRampWeight -> 40,000, smaller is outlier"
   ]
  },
  {
   "cell_type": "code",
   "execution_count": 27,
   "metadata": {},
   "outputs": [],
   "source": [
    "# Max\n",
    "df.drop(df[(df['AircraftCapacity'] == 148) & (df['TeledyneRampWeight'] > 70080)].index, inplace=True)\n",
    "df.drop(df[(df['AircraftCapacity'] == 189) & (df['TeledyneRampWeight'] > 79016)].index, inplace=True)\n",
    "df.drop(df[(df['AircraftCapacity'] == 180) & (df['TeledyneRampWeight'] > 73700)].index, inplace=True)\n",
    "df.drop(df[(df['AircraftCapacity'] == 197) & (df['TeledyneRampWeight'] > 82191)].index, inplace=True)\n",
    "# Min\n",
    "df = df.loc[df.TeledyneRampWeight > 40000,:]"
   ]
  },
  {
   "cell_type": "markdown",
   "metadata": {},
   "source": [
    "- Teledynes with same value all? Value 74283 is repeated 4088 and does not match PlannedTow many times.\n",
    "- Looking at our initial models we saw that our predictions deviated a lot from these Teledynes, but the PlannedTOW was similiar to out estimations.\n",
    "- To filter these kind of wrong values (and assuming PlannedTOW is accurate) we use `WrongTeledyneRatio`\n",
    "    - Filter when PlannedTOW is more than 10% higher than Teledyne (3424 rows) \n",
    "    - Filter when PlannedTOW is less than 85% of Teledyne (6565 rows)"
   ]
  },
  {
   "cell_type": "code",
   "execution_count": 28,
   "metadata": {},
   "outputs": [],
   "source": [
    "df['WrongTeledyneRatio'] = df['TeledyneRampWeight']/df['PlannedTOW']\n",
    "df = df.loc[df.WrongTeledyneRatio <= 1.10,:]\n",
    "df = df.loc[df.WrongTeledyneRatio >= 0.85,:]"
   ]
  },
  {
   "cell_type": "markdown",
   "metadata": {},
   "source": [
    "## Feature Engineering"
   ]
  },
  {
   "cell_type": "markdown",
   "metadata": {},
   "source": [
    "### Month + \"Weektime\"\n",
    "- We extract \"Month\" feature\n",
    "- We divide weekdays into:\n",
    "    - \"weekend\" (friday, saturday and sunday)\n",
    "    - \"weekday\" (monday to thursday)"
   ]
  },
  {
   "cell_type": "code",
   "execution_count": 29,
   "metadata": {},
   "outputs": [],
   "source": [
    "df.DepartureScheduled = df.DepartureScheduled.astype('datetime64[ns]')\n",
    "df['month'] = df['DepartureScheduled'].dt.strftime(\"%b\")\n",
    "# Weektime\n",
    "df['weektime'] = df.DepartureScheduled.dt.strftime('%w')\n",
    "df['weektime'] = df['weektime'].apply(lambda x: 'weekend' if x in ['5','6','0'] else 'weekday')"
   ]
  },
  {
   "cell_type": "markdown",
   "metadata": {},
   "source": [
    "### \"Weight Common Sense\"\n",
    "- We wanted to have our own common sense `PlannedZeroFuelWeight`, which we found to be relevant to our models and that is useful for other ratios\n",
    "- We call it `weightCargo` and it's close to Ryanair's `PlannedZeroFuelWeight` as you can see in the describe table"
   ]
  },
  {
   "cell_type": "code",
   "execution_count": 30,
   "metadata": {},
   "outputs": [
    {
     "data": {
      "text/plain": [
       "count    750876.000000\n",
       "mean          0.947469\n",
       "std           0.032184\n",
       "min           0.709331\n",
       "25%           0.936460\n",
       "50%           0.955172\n",
       "75%           0.968037\n",
       "max           1.301444\n",
       "dtype: float64"
      ]
     },
     "execution_count": 30,
     "metadata": {},
     "output_type": "execute_result"
    }
   ],
   "source": [
    "df['weightCargo'] = df['DryEmptyWeight'] + df['Adults']*84 + df['Children']*40 + df['Infants']*20 + df['Bags']*20 + df['Freight']\n",
    "(df['weightCargo']/df['PlannedZeroFuelWeight']).describe()"
   ]
  },
  {
   "cell_type": "markdown",
   "metadata": {},
   "source": [
    "### Fuel Consumption\n",
    "- Feature `consumption` allows us to capture `Burnoff` per minute per kg\n",
    "- It's important to note that this consumption will be different for each aircraft type "
   ]
  },
  {
   "cell_type": "code",
   "execution_count": 31,
   "metadata": {},
   "outputs": [
    {
     "data": {
      "text/html": [
       "<div>\n",
       "<style scoped>\n",
       "    .dataframe tbody tr th:only-of-type {\n",
       "        vertical-align: middle;\n",
       "    }\n",
       "\n",
       "    .dataframe tbody tr th {\n",
       "        vertical-align: top;\n",
       "    }\n",
       "\n",
       "    .dataframe thead th {\n",
       "        text-align: right;\n",
       "    }\n",
       "</style>\n",
       "<table border=\"1\" class=\"dataframe\">\n",
       "  <thead>\n",
       "    <tr style=\"text-align: right;\">\n",
       "      <th></th>\n",
       "      <th>mean</th>\n",
       "      <th>median</th>\n",
       "      <th>std</th>\n",
       "    </tr>\n",
       "    <tr>\n",
       "      <th>AircraftCapacity</th>\n",
       "      <th></th>\n",
       "      <th></th>\n",
       "      <th></th>\n",
       "    </tr>\n",
       "  </thead>\n",
       "  <tbody>\n",
       "    <tr>\n",
       "      <th>148.0</th>\n",
       "      <td>0.000586</td>\n",
       "      <td>0.000587</td>\n",
       "      <td>0.000050</td>\n",
       "    </tr>\n",
       "    <tr>\n",
       "      <th>180.0</th>\n",
       "      <td>0.000599</td>\n",
       "      <td>0.000598</td>\n",
       "      <td>0.000036</td>\n",
       "    </tr>\n",
       "    <tr>\n",
       "      <th>189.0</th>\n",
       "      <td>0.000575</td>\n",
       "      <td>0.000575</td>\n",
       "      <td>0.000033</td>\n",
       "    </tr>\n",
       "    <tr>\n",
       "      <th>197.0</th>\n",
       "      <td>0.000467</td>\n",
       "      <td>0.000466</td>\n",
       "      <td>0.000023</td>\n",
       "    </tr>\n",
       "  </tbody>\n",
       "</table>\n",
       "</div>"
      ],
      "text/plain": [
       "                      mean    median       std\n",
       "AircraftCapacity                              \n",
       "148.0             0.000586  0.000587  0.000050\n",
       "180.0             0.000599  0.000598  0.000036\n",
       "189.0             0.000575  0.000575  0.000033\n",
       "197.0             0.000467  0.000466  0.000023"
      ]
     },
     "execution_count": 31,
     "metadata": {},
     "output_type": "execute_result"
    }
   ],
   "source": [
    "df['consumption'] = df['Burnoff'] / df['BlockTime'] / df['TeledyneRampWeight'] \n",
    "df.groupby(['AircraftCapacity'])['consumption'].agg(['mean','median','std'])"
   ]
  },
  {
   "cell_type": "markdown",
   "metadata": {},
   "source": [
    "- Another metric than we found was very relevant in our models it `Burnoff` per Kg of weight without counting fuel, which varies per `ScheduledRoute` and `AircraftTypeGroup`\n",
    "- This metric also allows to capture that if the plane has a higher \"Zero Fuel Weight\" we might consume more.\n",
    "- Feature `burnoffKg` and we use our \"common sense\" `weightCargo` to compute it"
   ]
  },
  {
   "cell_type": "code",
   "execution_count": 32,
   "metadata": {},
   "outputs": [],
   "source": [
    "df['burnoffKg'] = df['Burnoff'] / df['weightCargo']"
   ]
  },
  {
   "cell_type": "markdown",
   "metadata": {},
   "source": [
    "### Extra Fuel\n",
    "- We wanted to capture wether aircrafts carry much more fuel than the Burnoff - `extraFuelRatio`\n",
    "- There are routes that on average carry more fuel in reserve, probably because they won't refuel at the arrival airport\n",
    "- `fuel` carried is calculated using both features from Ryanair's (assuming that if there is an error in one the other will also be wrong)\n"
   ]
  },
  {
   "cell_type": "code",
   "execution_count": 33,
   "metadata": {},
   "outputs": [],
   "source": [
    "df['fuel'] = df['PlannedTOW'] - df['PlannedZeroFuelWeight']\n",
    "df['extraFuelRatio'] = df['Burnoff'] / df['fuel']"
   ]
  },
  {
   "cell_type": "markdown",
   "metadata": {},
   "source": [
    "## Aggregating New Features for the Model\n",
    "- Given that many of the new features (ratios) we created were using the *variables known after prediction* (which we don't have in our test set) we aggregated these in order to be used in our model:\n",
    "\n",
    "    - `meanTaxiOut` aggregated per `DepartureAirport`\n",
    "    - `meanConsumption` aggregated per `AircraftRegistration`\n",
    "    - `meanFlightTime` aggregated per `ScheduledRoute` and `AicraftCapacity`\n",
    "    - `meanBurnoff` aggregated per `ScheduledRoute` and `AicraftCapacity`\n",
    "    - `meanBurnoffKg` aggregated per `ScheduledRoute` and `AicraftCapacity`\n",
    "    - `meanExtraFuelRatio` aggregated per `ScheduledRoute`\n",
    "    - `meanExtraFuelRatioArrival` aggregated per `ArrivalAirport`"
   ]
  },
  {
   "cell_type": "code",
   "execution_count": 34,
   "metadata": {},
   "outputs": [],
   "source": [
    "meanTaxiOut = df.groupby(['DepartureAirport'])['TaxiOut'].mean()\n",
    "df['meanTaxiOut'] = df['DepartureAirport'].map(meanTaxiOut)\n",
    "\n",
    "meanConsumption = df.groupby('AircraftRegistration')['consumption'].mean()\n",
    "df['meanConsumption'] = df['AircraftRegistration'].map(meanConsumption)\n",
    "\n",
    "meanFlightTime = df.groupby(['ScheduledRoute','AircraftCapacity'], as_index=False)['FlightTime'].mean().rename({'FlightTime':'meanFlightTime'},axis=1)\n",
    "df = df.merge(meanFlightTime, how='left')\n",
    "\n",
    "meanBurnoff = df.groupby(['ScheduledRoute','AircraftCapacity'], as_index=False)['Burnoff'].mean().rename({'Burnoff':'meanBurnoff'},axis=1)\n",
    "df = df.merge(meanBurnoff, how='left')\n",
    "\n",
    "meanBurnoffKg = df.groupby(['ScheduledRoute','AircraftCapacity'], as_index=False)['burnoffKg'].mean().rename({'burnoffKg':'meanBurnoffKg'},axis=1)\n",
    "df = df.merge(meanBurnoffKg, how='left')\n",
    "\n",
    "meanExtraFuelRatio = df.groupby(['ScheduledRoute'], as_index=False)['extraFuelRatio'].mean().rename({'extraFuelRatio':'meanExtraFuelRatio'},axis=1)\n",
    "df = df.merge(meanExtraFuelRatio, how='left')\n",
    "\n",
    "meanExtraFuelRatioArrival = df.groupby(['ArrivalAirport'], as_index=False)['extraFuelRatio'].mean().rename({'extraFuelRatio':'meanExtraFuelRatioArrival'},axis=1)\n",
    "df = df.merge(meanExtraFuelRatioArrival, how='left')\n"
   ]
  },
  {
   "cell_type": "markdown",
   "metadata": {},
   "source": [
    "### More Data Cleaning?\n",
    "We considered and tried cleaning more rows from the data frame by using some of these ratios. For instance, cleaning burnoffRates that were much higher than the average. However, the model did not improve as much and we were taking out outliers that might be helpful when predicting the \"test set\" data where we cannot identify those outliers. Hence, we chose to not clean any more rows from the dataset, although we are conscient that there are many other \"wrong\" inputations"
   ]
  },
  {
   "cell_type": "markdown",
   "metadata": {},
   "source": [
    "# Model"
   ]
  },
  {
   "cell_type": "markdown",
   "metadata": {},
   "source": [
    "### Feature Selection\n",
    "- Select columns from `df` to use in the model\n",
    "- One hot encoding for categorical variables"
   ]
  },
  {
   "cell_type": "code",
   "execution_count": 35,
   "metadata": {},
   "outputs": [],
   "source": [
    "X = df.loc[:,[\n",
    "    'AircraftCapacity',\n",
    "    'AircraftTypeGroup',\n",
    "    'ServiceDescription',\n",
    "    'Carrier',\n",
    "    'AOCDescription',\n",
    "    'BlockTimeScheduled',\n",
    "    'Adults',\n",
    "    'Children',\n",
    "    'Infants',\n",
    "    'Freight',\n",
    "    'Bags',\n",
    "    'DryEmptyWeight',\n",
    "    'distance',\n",
    "    'month',\n",
    "    'weektime',\n",
    "    'meanTaxiOut',\n",
    "    'meanConsumption',\n",
    "    'meanFlightTime',\n",
    "    'meanBurnoff',\n",
    "    'meanBurnoffKg',\n",
    "    'meanExtraFuelRatio',\n",
    "    'meanExtraFuelRatioArrival'\n",
    "]]\n",
    "\n",
    "X = pd.get_dummies(X,columns=['AircraftTypeGroup','ServiceDescription','Carrier','AOCDescription', 'month','weektime'])\n",
    "\n",
    "y = df.loc[:,['TeledyneRampWeight']]"
   ]
  },
  {
   "cell_type": "code",
   "execution_count": 36,
   "metadata": {},
   "outputs": [
    {
     "name": "stdout",
     "output_type": "stream",
     "text": [
      "[LightGBM] [Warning] bagging_freq is set=8, subsample_freq=0 will be ignored. Current value: bagging_freq=8\n",
      "[LightGBM] [Warning] feature_fraction is set=0.9, colsample_bytree=1.0 will be ignored. Current value: feature_fraction=0.9\n",
      "[LightGBM] [Warning] bagging_fraction is set=0.7, subsample=1.0 will be ignored. Current value: bagging_fraction=0.7\n"
     ]
    },
    {
     "data": {
      "text/plain": [
       "defaultdict(collections.OrderedDict,\n",
       "            {'valid_0': OrderedDict([('l1', 662.3179104300796),\n",
       "                          ('l2', 1054708.1361935106)])})"
      ]
     },
     "execution_count": 36,
     "metadata": {},
     "output_type": "execute_result"
    }
   ],
   "source": [
    "import lightgbm as lgb\n",
    "from sklearn.model_selection import train_test_split\n",
    "\n",
    "X_train, X_test, y_train, y_test = train_test_split(X, y, test_size=0.4, random_state=15)\n",
    "\n",
    "#parametros iniciales 540\n",
    "hyper_params = {\n",
    "    'task': 'train',\n",
    "    'boosting_type': 'gbdt',\n",
    "    'objective': 'regression',\n",
    "    'metric': ['l1','l2'],\n",
    "    'learning_rate': 0.1,\n",
    "    'feature_fraction': 0.9,\n",
    "    'bagging_fraction': 0.7,\n",
    "    'bagging_freq': 8,\n",
    "    'verbose': -1,\n",
    "    \"max_depth\": 10,\n",
    "    \"num_leaves\": 128,  \n",
    "    \"max_bin\": 512,\n",
    "    \"num_iterations\": 100000,\n",
    "}\n",
    "\n",
    "gbm = lgb.LGBMRegressor(**hyper_params)\n",
    "gbm.fit(X_train, y_train,\n",
    "        eval_set=[(X_test, y_test)],\n",
    "        eval_metric='mae',\n",
    "        early_stopping_rounds=50,\n",
    "        verbose=False)\n",
    "gbm.best_score_"
   ]
  },
  {
   "cell_type": "markdown",
   "metadata": {},
   "source": [
    "## Prepare the Test Set for Submission (Model in Production)\n",
    "\n",
    "The next cells show how we prepared the test set for submission (inpute the new created features used in the mode), which is what would be needed in case of wanting to run this model in production"
   ]
  },
  {
   "cell_type": "code",
   "execution_count": 37,
   "metadata": {},
   "outputs": [],
   "source": [
    "submission = pd.read_csv('test.csv')\n",
    "\n",
    "# Calculate distance between airports\n",
    "submission[['DepartureAirport','ArrivalAirport']] = submission['ScheduledRoute'].str.split('-', expand=True)\n",
    "submission['distance'] = submission.apply(lambda x: calculateGeoDistance(x.DepartureAirport, x.ArrivalAirport), axis = 1)\n",
    "\n",
    "# Month\n",
    "submission.DepartureScheduled = submission.DepartureScheduled.astype('datetime64[ns]')\n",
    "submission['month'] = submission['DepartureScheduled'].dt.strftime(\"%b\")\n",
    "# Weektime\n",
    "submission['weektime'] = submission.DepartureScheduled.dt.strftime('%w')\n",
    "submission['weektime'] = submission['weektime'].apply(lambda x: 'weekend' if x in ['5','6','0'] else 'weekday')\n",
    "\n",
    "# Balance Passangers to AircraftCapacity\n",
    "submission[['Adults','Children']] = submission.apply(lambda x: balancePassangers(x.AircraftCapacity, x.Adults, x.Children), axis=1, result_type='expand')\n",
    "\n",
    "# Freights Max = 10,000 --> All values above 10,000 input as 10,000\n",
    "submission.loc[submission.Freight > 10000, 'Freight'] = 10000\n",
    "\n",
    "# DryEmptyWeight\n",
    "dWeights = {197:45070, 189: 41140, 148:37648 ,180:42600}\n",
    "submission['DryEmptyWeight'] = submission['AircraftCapacity'].apply(lambda x: dWeights[x])\n",
    "\n",
    "# weightCargo common sense\n",
    "submission['weightCargo'] = submission['DryEmptyWeight'] + submission['Adults']*84 + submission['Children']*40 + submission['Infants']*20 + submission['Bags']*20 + submission['Freight']\n",
    "\n",
    "# ServiceDescription Corrections\n",
    "submission.loc[submission.ServiceDescription == 'Positioning Flight', ['Adults']] = 0\n",
    "submission.loc[submission.ServiceDescription == 'Positioning Flight', ['Children']] = 0\n",
    "submission.loc[submission.ServiceDescription == 'Positioning Flight', ['Infants']] = 0\n",
    "\n",
    "submission.loc[(submission.Adults == 0) & (submission.Bags < 10) & (submission.ServiceDescription == 'Scheduled Flight'), 'ServiceDescription'] = 'Positioning Flight'\n",
    "meanAdultsRoute = df.groupby('ScheduledRoute')['Adults'].median()\n",
    "submission.loc[(submission.Adults == 0) & (submission.ServiceDescription == 'Scheduled Flight'), ['Adults']] = submission['ScheduledRoute'].map(meanAdultsRoute)\n",
    "\n",
    "submission.loc[submission.ServiceDescription == 'Charter Flight (Tour Operator)', 'ServiceDescription'] = 'Charter Flight'\n",
    "submission.loc[(submission.Adults == 0) & (submission.Bags < 10) & (submission.ServiceDescription == 'Charter Flight'), 'ServiceDescription'] = 'Positioning Flight'\n",
    "submission.loc[(submission.Adults == 0) & (submission.ServiceDescription == 'Charter Flight'), ['Adults']] = submission['ScheduledRoute'].map(meanAdultsRoute)\n"
   ]
  },
  {
   "cell_type": "markdown",
   "metadata": {},
   "source": [
    "### Ratios from Feature Engineering\n",
    "Since some `ScheduledRoutes` and some `Aiports` found in the test set are not in the training we need to decide which value to inpute:\n",
    "- `meanTaxiOut`: For Null values inpute the median of all `TaxiOut`\n",
    "- `meanConsumption`: For Null values inpute the median of all `consumption`\n",
    "- `meanFlightTime`: For Null values use a LinearRegression where X=distance and y=FlightTime from the entire training set\n",
    "- `meanBurnoff`: For Null values first input the mean in that `ScheduledRoute`, otherwise use a LinearRegression X=distance and y=Burnoff\n",
    "- `meanBurnoffKg`: For Null values input the mean of by `AicraftCapacity`\n",
    "- `meanExtraFuelRatio` and `meanExtraFuelRatioArrival`: For Null values input the mean of all extraFuelRatio\n"
   ]
  },
  {
   "cell_type": "code",
   "execution_count": 38,
   "metadata": {},
   "outputs": [],
   "source": [
    "from sklearn.linear_model import LinearRegression\n",
    "\n",
    "submission['meanTaxiOut'] = submission['DepartureAirport'].map(meanTaxiOut)\n",
    "submission.meanTaxiOut = submission.meanTaxiOut.fillna(df.TaxiOut.median())\n",
    "\n",
    "submission['meanConsumption'] = submission['AircraftRegistration'].map(meanConsumption)\n",
    "submission.meanConsumption = submission.meanConsumption.fillna(df.consumption.median())\n",
    "\n",
    "submission = submission.merge(meanFlightTime, how='left')\n",
    "regFlightTime = LinearRegression().fit(df['distance'].array.reshape(-1, 1),df['FlightTime'].array.reshape(-1, 1))\n",
    "submission.loc[submission['meanFlightTime'].isna(),'meanFlightTime'] = regFlightTime.predict(submission.loc[submission['meanFlightTime'].isna(),'distance'].array.reshape(-1, 1))\n",
    "\n",
    "submission = submission.merge(meanBurnoff, how='left')\n",
    "submission.loc[submission['meanBurnoff'].isna(),'meanBurnoff'] = submission['ScheduledRoute'].map(meanBurnoff.groupby('ScheduledRoute')['meanBurnoff'].mean())\n",
    "regBurnoff = LinearRegression().fit(df['distance'].array.reshape(-1, 1),df['Burnoff'].array.reshape(-1, 1))\n",
    "submission.loc[submission['meanBurnoff'].isna(),'meanBurnoff'] = regBurnoff.predict(submission.loc[submission['meanBurnoff'].isna(),'distance'].array.reshape(-1, 1))\n",
    "\n",
    "submission = submission.merge(meanBurnoffKg, how='left')\n",
    "submission.loc[submission['meanBurnoffKg'].isna(),'meanBurnoffKg'] = submission['AircraftCapacity'].map(meanBurnoffKg.groupby('AircraftCapacity')['meanBurnoffKg'].mean())\n",
    "\n",
    "submission = submission.merge(meanExtraFuelRatio, how='left')\n",
    "submission.loc[submission['meanExtraFuelRatio'].isna(),'meanExtraFuelRatio'] = meanExtraFuelRatio.meanExtraFuelRatio.mean()\n",
    "\n",
    "submission = submission.merge(meanExtraFuelRatioArrival, how='left')\n",
    "submission.loc[submission['meanExtraFuelRatioArrival'].isna(),'meanExtraFuelRatioArrival'] = meanExtraFuelRatioArrival.meanExtraFuelRatioArrival.mean()\n"
   ]
  },
  {
   "cell_type": "code",
   "execution_count": 39,
   "metadata": {},
   "outputs": [],
   "source": [
    "Xsub = submission.loc[:,[\n",
    "    'AircraftCapacity',\n",
    "    'AircraftTypeGroup',\n",
    "    'ServiceDescription',\n",
    "    'Carrier',\n",
    "    'AOCDescription',\n",
    "    'BlockTimeScheduled',\n",
    "    'Adults',\n",
    "    'Children',\n",
    "    'Infants',\n",
    "    'Freight',\n",
    "    'Bags',\n",
    "    'DryEmptyWeight',\n",
    "    'distance',\n",
    "    'month',\n",
    "    'weektime',\n",
    "    'meanTaxiOut',\n",
    "    'meanConsumption',\n",
    "    'meanFlightTime',\n",
    "    'meanBurnoff',\n",
    "    'meanBurnoffKg',\n",
    "    'meanExtraFuelRatio',\n",
    "    'meanExtraFuelRatioArrival'\n",
    "]]\n",
    "Xsub = pd.get_dummies(Xsub,columns=['AircraftTypeGroup','ServiceDescription','Carrier','AOCDescription', 'month','weektime'], drop_first=False)\n",
    "\n",
    "predsub = gbm.predict(Xsub)"
   ]
  },
  {
   "cell_type": "code",
   "execution_count": 40,
   "metadata": {},
   "outputs": [],
   "source": [
    "subFinal = pd.concat([submission['FlightID'], pd.Series(predsub,name='TeledyneRampWeight')], axis=1)\n",
    "subFinal.to_csv('subFinal.csv', index=False)"
   ]
  },
  {
   "cell_type": "code",
   "execution_count": null,
   "metadata": {},
   "outputs": [],
   "source": []
  }
 ],
 "metadata": {
  "kernelspec": {
   "display_name": "Python 3.9.10 64-bit",
   "language": "python",
   "name": "python3"
  },
  "language_info": {
   "codemirror_mode": {
    "name": "ipython",
    "version": 3
   },
   "file_extension": ".py",
   "mimetype": "text/x-python",
   "name": "python",
   "nbconvert_exporter": "python",
   "pygments_lexer": "ipython3",
   "version": "3.9.10"
  },
  "orig_nbformat": 4,
  "vscode": {
   "interpreter": {
    "hash": "aee8b7b246df8f9039afb4144a1f6fd8d2ca17a180786b69acc140d282b71a49"
   }
  }
 },
 "nbformat": 4,
 "nbformat_minor": 2
}
